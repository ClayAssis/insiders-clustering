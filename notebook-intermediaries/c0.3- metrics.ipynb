{
 "cells": [
  {
   "cell_type": "markdown",
   "metadata": {
    "heading_collapsed": true
   },
   "source": [
    "# <font color= 'blue'> Project: High Value Customer Identification (Insiders)</font>\n"
   ]
  },
  {
   "cell_type": "markdown",
   "metadata": {
    "ExecuteTime": {
     "end_time": "2022-02-07T12:53:24.629168Z",
     "start_time": "2022-02-07T12:53:24.622757Z"
    },
    "hidden": true
   },
   "source": [
    "## Business Challange\n",
    "\n",
    "A loyalty program of customers to increase sales frquency.\n",
    "\n",
    "## Business Planning (IOT)\n",
    "\n",
    "### Input \n",
    "    1. Business Problem\n",
    "        - Select the most valuable customers to join a loyalty program.\n",
    "    \n",
    "    2. Dataset\n",
    "        - One year e-commerce sales.\n",
    "        Invoice No: Invoice number (A 6-digit integral number uniquely assigned to each transaction)\n",
    "\n",
    "        Stock Code: Product (item) code\n",
    "\n",
    "        Description: Product (item) name\n",
    "\n",
    "        Quantity: The quantities of each product (item) per transaction\n",
    "\n",
    "        Invoice Date: The day when each transaction was generated\n",
    "\n",
    "        Unit Price: Unit price (Product price per unit)\n",
    "\n",
    "        Customer ID: Customer number (Unique ID assigned to each customer)\n",
    "\n",
    "        Country: Country name (The name of the country where each customer resides)\n",
    "    \n",
    "### Output\n",
    "    1. Indicate customers who will be part of a loyalty program called Insiders.\n",
    "            - List: client_id | is_insider\n",
    "                        10323 |   yes\n",
    "                        32413 |   no\n",
    "    2. A report with the answers for the business questions.\n",
    "    - Who are the customers eligible to join the program?\n",
    "    - How many customers will be part os this group?\n",
    "    - What are the main characteristics of these customers?\n",
    "    - What is the contribution percentage revenue from Insiders?\n",
    "    - What is the group's revenue expectation for the coming months?\n",
    "    - What are the condictions for select customers to join Insiders?\n",
    "    - What are the condictions for removing Insiders customers?\n",
    "    - What is the guarantee that the Insiders program is better than the rest of the base?\n",
    "    - What actions can the marketing team take to increase revenue?\n",
    "    \n",
    "### Taks\n",
    "    1. Who are the customers eligible to join the program?\n",
    "        - What does it mean, to be elegible? What does high-value customers mean?\n",
    "             - Revenue: ticket, bascket size, high LTV (Lifetime Value), churn probability,high TVC prevision, purchasing propensity.\n",
    "             - Cost: lower return rate.\n",
    "             - Purchase experience: high average evaluation rate.\n",
    "     \n",
    "    2. How many customers will be part os this group?\n",
    "        - Total nambers of customers.\n",
    "        - % Insiders group.\n",
    "        \n",
    "    3. What are the main characteristics of these customers?\n",
    "        - Age\n",
    "        - Location\n",
    "        - Others characteristics.\n",
    "        - Ticket, bascket size, high LTV, churn probability,high TVC prevision, purchasing propensity.\n",
    "        \n",
    "    4. What is the contribution percentage revenue from Insiders?\n",
    "         - Total revenue for the year.\n",
    "         - Insiders group revenue.\n",
    "         \n",
    "    5. What is the group's revenue expectation for the coming months?\n",
    "        - LTV Insisders group.\n",
    "        - Cohort analysis.\n",
    "        \n",
    "    6. What are the condictions for select customers to join Insiders?\n",
    "        - Define the periodicity\n",
    "        - The person needs to have similar characteristics with someone in the group.\n",
    "    \n",
    "    7. What are the condictions for removing Insiders customers?\n",
    "        - Define the periodicity\n",
    "        - The person doen't need to have similar characteristics with someone in the group.\n",
    "        \n",
    "    8. What is the guarantee that the Insiders program is better than the rest of the base?\n",
    "        - A/B test\n",
    "        - A/B bayesian test\n",
    "        - Hypothesis test\n",
    "        \n",
    "    9. What actions can the marketing team take to increase revenue?\n",
    "        - Discont\n",
    "        - Purchase preference\n",
    "        - Purchase shipping\n",
    "        - Company visit  \n",
    "        \n",
    "## Benchmark Solutions\n",
    "\n",
    "###  Desk Research\n",
    " - RFM model (recency, frequency,, monetary): sorted data to have a RFM Score.\n",
    " \n",
    "     Recency: How recently a customer has made a purchase\n",
    "     \n",
    "     Frequency: How often a customer makes a purchase\n",
    "     \n",
    "     Monetary Value: How much money a customer spends on purchases\n",
    "     \n",
    "\n",
    " - example project: https://guillaume-martin.github.io/rfm-segmentation-with-python.html"
   ]
  },
  {
   "cell_type": "markdown",
   "metadata": {},
   "source": [
    "# 0.0. Imports"
   ]
  },
  {
   "cell_type": "code",
   "execution_count": null,
   "metadata": {
    "ExecuteTime": {
     "end_time": "2022-02-09T19:06:13.516281Z",
     "start_time": "2022-02-09T19:06:09.774638Z"
    }
   },
   "outputs": [],
   "source": [
    "import pandas as pd\n",
    "import numpy as np\n",
    "import seaborn as sns\n",
    "import umap.umap_ as umap\n",
    "\n",
    "from matplotlib import pyplot as plt\n",
    "from IPython.display import Image, HTML\n",
    "from datetime import datetime\n",
    "from sklearn import cluster as c\n",
    "from sklearn import metrics as m\n",
    "from plotly import express as px\n",
    "from yellowbrick.cluster import KElbowVisualizer, SilhouetteVisualizer"
   ]
  },
  {
   "cell_type": "markdown",
   "metadata": {},
   "source": [
    "## 0.1. Helper Functions"
   ]
  },
  {
   "cell_type": "code",
   "execution_count": null,
   "metadata": {
    "ExecuteTime": {
     "end_time": "2022-02-09T17:34:47.782907Z",
     "start_time": "2022-02-09T17:34:47.750988Z"
    }
   },
   "outputs": [],
   "source": [
    " def jupyter_settings():\n",
    "    %matplotlib inline\n",
    "    %pylab inline\n",
    "    \n",
    "    plt.style.use( 'bmh' )\n",
    "    plt.rcParams['figure.figsize'] = [25, 12]\n",
    "    plt.rcParams['font.size'] = 24\n",
    "    \n",
    "    display( HTML( '<style>.container { width:100% !important; }</style>') )\n",
    "    pd.options.display.max_columns = None\n",
    "    pd.options.display.max_rows = None\n",
    "    pd.set_option( 'display.expand_frame_repr', False )\n",
    "    \n",
    "    sns.set()\n",
    "    \n",
    "jupyter_settings() \n",
    "    "
   ]
  },
  {
   "cell_type": "markdown",
   "metadata": {},
   "source": [
    "## 0.2. Load dataset"
   ]
  },
  {
   "cell_type": "code",
   "execution_count": null,
   "metadata": {
    "ExecuteTime": {
     "end_time": "2022-02-09T19:06:17.942217Z",
     "start_time": "2022-02-09T19:06:17.471283Z"
    }
   },
   "outputs": [],
   "source": [
    "# load data\n",
    "df_raw = pd.read_csv('data/Ecommerce.csv')\n",
    "\n",
    "# drop extra column\n",
    "df_raw = df_raw.drop(columns = ['Unnamed: 8'], axis = 1)"
   ]
  },
  {
   "cell_type": "markdown",
   "metadata": {},
   "source": [
    "# 1.0. Data Description"
   ]
  },
  {
   "cell_type": "code",
   "execution_count": null,
   "metadata": {
    "ExecuteTime": {
     "end_time": "2022-02-09T19:06:18.018269Z",
     "start_time": "2022-02-09T19:06:18.004522Z"
    }
   },
   "outputs": [],
   "source": [
    "df1 = df_raw.copy()"
   ]
  },
  {
   "cell_type": "markdown",
   "metadata": {},
   "source": [
    "## 1.1. Rename columns"
   ]
  },
  {
   "cell_type": "code",
   "execution_count": null,
   "metadata": {
    "ExecuteTime": {
     "end_time": "2022-02-09T19:06:18.523272Z",
     "start_time": "2022-02-09T19:06:18.515411Z"
    }
   },
   "outputs": [],
   "source": [
    "cols_new = ['invoice_no', 'stock_code', 'description', 'quantity', 'invoice_date',\n",
    "       'unit_price', 'customer_id', 'country']\n",
    "df1.columns = cols_new"
   ]
  },
  {
   "cell_type": "markdown",
   "metadata": {
    "ExecuteTime": {
     "end_time": "2022-02-07T19:34:06.250066Z",
     "start_time": "2022-02-07T19:34:06.246803Z"
    }
   },
   "source": [
    "## 1.2. Data dimensions"
   ]
  },
  {
   "cell_type": "code",
   "execution_count": null,
   "metadata": {
    "ExecuteTime": {
     "end_time": "2022-02-09T19:06:19.004512Z",
     "start_time": "2022-02-09T19:06:18.998076Z"
    }
   },
   "outputs": [],
   "source": [
    "print('Number of Rows: {}'.format(df1.shape[0]))\n",
    "print('Number of Columns: {}'.format(df1.shape[1]))"
   ]
  },
  {
   "cell_type": "markdown",
   "metadata": {},
   "source": [
    "## 1.3. Data types"
   ]
  },
  {
   "cell_type": "code",
   "execution_count": null,
   "metadata": {
    "ExecuteTime": {
     "end_time": "2022-02-09T19:06:19.424515Z",
     "start_time": "2022-02-09T19:06:19.411155Z"
    }
   },
   "outputs": [],
   "source": [
    "df1.dtypes"
   ]
  },
  {
   "cell_type": "code",
   "execution_count": null,
   "metadata": {
    "ExecuteTime": {
     "end_time": "2022-02-09T19:06:19.772703Z",
     "start_time": "2022-02-09T19:06:19.629711Z"
    }
   },
   "outputs": [],
   "source": [
    "df1['invoice_no'] = df1['invoice_no'].astype(int)"
   ]
  },
  {
   "cell_type": "code",
   "execution_count": null,
   "metadata": {
    "ExecuteTime": {
     "end_time": "2022-02-09T19:06:19.899708Z",
     "start_time": "2022-02-09T19:06:19.879811Z"
    }
   },
   "outputs": [],
   "source": [
    "df1['stock_code'] = df1['stock_code'].astype(int)"
   ]
  },
  {
   "cell_type": "markdown",
   "metadata": {},
   "source": [
    "## 1.4. Check NA"
   ]
  },
  {
   "cell_type": "code",
   "execution_count": null,
   "metadata": {
    "ExecuteTime": {
     "end_time": "2022-02-09T19:06:20.355405Z",
     "start_time": "2022-02-09T19:06:20.220848Z"
    }
   },
   "outputs": [],
   "source": [
    "df1.isna().sum()"
   ]
  },
  {
   "cell_type": "markdown",
   "metadata": {},
   "source": [
    "## 1.5. Replace NA"
   ]
  },
  {
   "cell_type": "code",
   "execution_count": null,
   "metadata": {
    "ExecuteTime": {
     "end_time": "2022-02-09T19:06:20.861968Z",
     "start_time": "2022-02-09T19:06:20.637758Z"
    }
   },
   "outputs": [],
   "source": [
    "# remove na\n",
    "df1 = df1.dropna(subset = ['description', 'customer_id'])\n",
    "print('Removed data:{:.2f}'.format (1-(df1.shape[0]/df_raw.shape[0])))"
   ]
  },
  {
   "cell_type": "code",
   "execution_count": null,
   "metadata": {
    "ExecuteTime": {
     "end_time": "2022-02-09T19:06:20.934296Z",
     "start_time": "2022-02-09T19:06:20.863137Z"
    }
   },
   "outputs": [],
   "source": [
    "df1.isna().sum()"
   ]
  },
  {
   "cell_type": "markdown",
   "metadata": {},
   "source": [
    "## 1.6. Change dtypes"
   ]
  },
  {
   "cell_type": "code",
   "execution_count": null,
   "metadata": {
    "ExecuteTime": {
     "end_time": "2022-02-09T19:06:21.405597Z",
     "start_time": "2022-02-09T19:06:21.301431Z"
    }
   },
   "outputs": [],
   "source": [
    "# invoice_date\n",
    "df1[\"invoice_date\"] = pd.to_datetime(df1[\"invoice_date\"],infer_datetime_format=True)\n",
    "\n",
    "# customer_id\n",
    "df1['customer_id'] = df1['customer_id'].astype(int)\n",
    "df1.dtypes"
   ]
  },
  {
   "cell_type": "code",
   "execution_count": null,
   "metadata": {
    "ExecuteTime": {
     "end_time": "2022-02-09T19:06:21.755408Z",
     "start_time": "2022-02-09T19:06:21.729085Z"
    }
   },
   "outputs": [],
   "source": [
    "df1.head()"
   ]
  },
  {
   "cell_type": "markdown",
   "metadata": {},
   "source": [
    "## 1.7. Descriptive Statistics"
   ]
  },
  {
   "cell_type": "code",
   "execution_count": null,
   "metadata": {
    "ExecuteTime": {
     "end_time": "2022-02-09T19:06:22.204040Z",
     "start_time": "2022-02-09T19:06:22.160518Z"
    }
   },
   "outputs": [],
   "source": [
    "num_attributes = df1.select_dtypes(include =['int64', 'float64'])\n",
    "cat_attributes = df1.select_dtypes(exclude = ['int64', 'float64', 'datetime64[ns]'])"
   ]
  },
  {
   "cell_type": "code",
   "execution_count": null,
   "metadata": {
    "ExecuteTime": {
     "end_time": "2022-02-09T19:06:22.444851Z",
     "start_time": "2022-02-09T19:06:22.361048Z"
    }
   },
   "outputs": [],
   "source": [
    " # central tendency - mean, median\n",
    "ct1 = pd.DataFrame( num_attributes.apply( np.mean ) ).T\n",
    "ct2 = pd.DataFrame( num_attributes.apply( np.median ) ).T\n",
    "             \n",
    "# dispersion - desvio padrão, minimo, maximo, range, skew, kurtosis\n",
    "d1 = pd.DataFrame( num_attributes.apply( np.std ) ).T\n",
    "d2 = pd.DataFrame( num_attributes.apply( np.min ) ).T\n",
    "d3 = pd.DataFrame( num_attributes.apply( np.max ) ).T\n",
    "d4 = pd.DataFrame( num_attributes.apply( lambda x: x.max() - x.min() ) ).T\n",
    "d5 = pd.DataFrame( num_attributes.apply( lambda x: x.skew() ) ).T\n",
    "d6 = pd.DataFrame( num_attributes.apply( lambda x: x.kurtosis() ) ).T\n",
    "\n",
    "# concatenate\n",
    "m = pd.concat( [d2, d3, d4, ct1, ct2, d1, d5, d6] ).T.reset_index()\n",
    "m.columns = ['attributes', 'min', 'max', 'range', 'mean', 'mediana', 'std', 'skew', 'kurtosis']\n",
    "m"
   ]
  },
  {
   "cell_type": "markdown",
   "metadata": {},
   "source": [
    "### 1.7.1. Numerical Attributes - Investigating"
   ]
  },
  {
   "cell_type": "markdown",
   "metadata": {
    "ExecuteTime": {
     "end_time": "2022-02-09T17:48:46.911147Z",
     "start_time": "2022-02-09T17:48:46.903035Z"
    }
   },
   "source": [
    "1. Could be negative quantity, return?\n",
    "2. Unit price = 0. Could it be sales?\n"
   ]
  },
  {
   "cell_type": "markdown",
   "metadata": {},
   "source": [
    "### 1.7.2. Categorical Attributes"
   ]
  },
  {
   "cell_type": "code",
   "execution_count": null,
   "metadata": {
    "ExecuteTime": {
     "end_time": "2022-02-09T19:06:23.214778Z",
     "start_time": "2022-02-09T19:06:23.172585Z"
    }
   },
   "outputs": [],
   "source": [
    "# invoice number\n",
    "\n",
    "#cat_attributes['invoice_no'].astype(int)\n",
    "len(cat_attributes.loc[cat_attributes['invoice_no'].apply(lambda x: bool(re.search( '[ˆ0-9]+', x ))), 'invoice_no'].drop_duplicates())"
   ]
  },
  {
   "cell_type": "code",
   "execution_count": null,
   "metadata": {
    "ExecuteTime": {
     "end_time": "2022-02-09T19:06:23.416983Z",
     "start_time": "2022-02-09T19:06:23.381780Z"
    }
   },
   "outputs": [],
   "source": [
    "# stock code\n",
    "\n",
    "# check stock codes only characters\n",
    "df1.loc[df1['stock_code'].apply( lambda x: bool( re.search( '^[a-zA-Z]+$', x ) ) ), 'stock_code'].unique()\n",
    "\n",
    "# Acão:\n",
    "## 1. Remove stock_code in ['POST', 'D', 'M', 'PADS', 'DOT', 'CRUK']"
   ]
  },
  {
   "cell_type": "markdown",
   "metadata": {},
   "source": [
    "# 2.0. Data Filtering"
   ]
  },
  {
   "cell_type": "code",
   "execution_count": null,
   "metadata": {
    "ExecuteTime": {
     "end_time": "2022-02-09T19:06:23.827128Z",
     "start_time": "2022-02-09T19:06:23.799122Z"
    }
   },
   "outputs": [],
   "source": [
    "df2 = df1.copy()"
   ]
  },
  {
   "cell_type": "code",
   "execution_count": null,
   "metadata": {
    "ExecuteTime": {
     "end_time": "2022-02-09T19:06:24.147266Z",
     "start_time": "2022-02-09T19:06:24.001364Z"
    }
   },
   "outputs": [],
   "source": [
    "# ===Numerical Attributes===\n",
    "# unit price > 0.0\n",
    "df2 = df2.loc[df2['unit_price'] > 0.010, :]\n",
    "\n",
    "#stock code != ['POST', 'D', 'M', 'DOT', 'CRUK']\n",
    "df2 = df2[-df2['stock_code'].isin(['POST', 'D', 'M', 'DOT', 'CRUK', 'C2'])]\n",
    "\n",
    "# description\n",
    "\n",
    "## quantity - Negative numbers means product returns\n",
    "# df2.loc[df2['invoice_no'] == 'C536391', :]\n",
    "# df2.loc[df2['customer_id'] == 17548, :].sort_values('description')\n",
    "df2_returns = df2.loc[df2['quantity']< 0, :]\n",
    "df2_purchase = df2.loc[df2['quantity'] > 0, :]\n"
   ]
  },
  {
   "cell_type": "markdown",
   "metadata": {},
   "source": [
    "# 3.0. Feature Engineering"
   ]
  },
  {
   "cell_type": "code",
   "execution_count": null,
   "metadata": {
    "ExecuteTime": {
     "end_time": "2022-02-09T19:06:24.448502Z",
     "start_time": "2022-02-09T19:06:24.428481Z"
    }
   },
   "outputs": [],
   "source": [
    "df3 = df2.copy()"
   ]
  },
  {
   "cell_type": "markdown",
   "metadata": {},
   "source": [
    "## 2.1. Feature Creation"
   ]
  },
  {
   "cell_type": "code",
   "execution_count": null,
   "metadata": {
    "ExecuteTime": {
     "end_time": "2022-02-09T19:06:24.894175Z",
     "start_time": "2022-02-09T19:06:24.861080Z"
    }
   },
   "outputs": [],
   "source": [
    "# data reference\n",
    "df_ref = df3.drop(['invoice_no', 'stock_code', 'description', 'quantity', 'invoice_date', 'unit_price', 'country'],\n",
    "                   axis =1 ).drop_duplicates( ignore_index = True)"
   ]
  },
  {
   "cell_type": "code",
   "execution_count": null,
   "metadata": {
    "ExecuteTime": {
     "end_time": "2022-02-09T19:06:25.128439Z",
     "start_time": "2022-02-09T19:06:25.071057Z"
    }
   },
   "outputs": [],
   "source": [
    "# Gross Revenue\n",
    "df2_purchase.loc[:,'gross_revenue'] = df2_purchase.loc[:,'quantity'] * df2_purchase.loc[:,'unit_price']\n",
    "\n",
    "# Monetary\n",
    "df_monetary = df2_purchase[['customer_id', 'gross_revenue']].groupby('customer_id').sum().reset_index()\n",
    "df_ref = pd.merge(df_ref, df_monetary, on = 'customer_id', how = 'left')\n",
    "df_ref.isna().sum()\n"
   ]
  },
  {
   "cell_type": "code",
   "execution_count": null,
   "metadata": {
    "ExecuteTime": {
     "end_time": "2022-02-09T19:06:25.325185Z",
     "start_time": "2022-02-09T19:06:25.283882Z"
    }
   },
   "outputs": [],
   "source": [
    " # Recency - Last day purchase\n",
    "df_recency = df2_purchase.loc[:, ['customer_id', 'invoice_date']].groupby( 'customer_id' ).max().reset_index()\n",
    "df_recency['recency_days'] = ( df2['invoice_date'].max() - df_recency['invoice_date'] ).dt.days\n",
    "df_recency = df_recency[['customer_id', 'recency_days']].copy()\n",
    "df_ref = pd.merge( df_ref, df_recency, on='customer_id', how='left' )\n",
    "df_ref.isna().sum()"
   ]
  },
  {
   "cell_type": "code",
   "execution_count": null,
   "metadata": {
    "ExecuteTime": {
     "end_time": "2022-02-09T19:06:25.598392Z",
     "start_time": "2022-02-09T19:06:25.520841Z"
    }
   },
   "outputs": [],
   "source": [
    "# Frequency - It depens on product returns\n",
    "df_frequency = df2_purchase[['customer_id', 'invoice_no']].drop_duplicates().groupby('customer_id').count().reset_index()\n",
    "df_ref = pd.merge( df_ref, df_frequency, on = 'customer_id', how ='left')\n",
    "df_ref.isna().sum()"
   ]
  },
  {
   "cell_type": "code",
   "execution_count": null,
   "metadata": {
    "ExecuteTime": {
     "end_time": "2022-02-09T19:06:25.807800Z",
     "start_time": "2022-02-09T19:06:25.768666Z"
    }
   },
   "outputs": [],
   "source": [
    "# Average Ticket\n",
    "df_avg_ticket = df2_purchase[['customer_id', 'gross_revenue']].groupby('customer_id').mean().reset_index().rename(columns={'gross_revenue': 'avg_ticket'})\n",
    "df_avg_ticket['avg_ticket'] = np.round(df_avg_ticket['avg_ticket'],2)\n",
    "df_ref = pd.merge( df_ref, df_avg_ticket, on = 'customer_id', how = 'left')\n",
    "df_ref.isna().sum()"
   ]
  },
  {
   "cell_type": "code",
   "execution_count": null,
   "metadata": {
    "ExecuteTime": {
     "end_time": "2022-02-09T19:06:25.999241Z",
     "start_time": "2022-02-09T19:06:25.993250Z"
    }
   },
   "outputs": [],
   "source": [
    "# data reference\n",
    "#df_ref = df2.drop(['invoice_no', 'stock_code', 'description', 'quantity', 'invoice_date', 'unit_price', 'country'],\n",
    "                   #axis =1 ).drop_duplicates( ignore_index = True)\n",
    "\n",
    "# Gross Revenue: quantity * price\n",
    "#df2['gross_revenue'] = df2['quantity'] * df2['unit_price']\n",
    "\n",
    "# Monetary\n",
    "#df_monetary = df2[['customer_id', 'gross_revenue']].groupby('customer_id').sum().reset_index()\n",
    "#df_ref = pd.merge(df_ref, df_monetary, on = 'customer_id', how = 'left')\n",
    "\n",
    "\n",
    "# Recency (Last Day Purchase)\n",
    "#df_recency = df2[['customer_id', 'invoice_date']].groupby('customer_id').max().reset_index()\n",
    "#df_recency['recency_days'] = (df2['invoice_date'].max()- df_recency['invoice_date']).dt.days\n",
    "#df_recency = df_recency[['customer_id', 'recency_days']].copy()\n",
    "#df_ref = pd.merge( df_ref, df_recency, on = 'customer_id', how = 'left')\n",
    "\n",
    "# Frequency\n",
    "#df_freq = df2[['customer_id', 'invoice_no']].drop_duplicates().groupby('customer_id').count().reset_index()\n",
    "#df_ref = pd.merge( df_ref, df_freq, on = 'customer_id', how ='left')\n",
    "\n",
    "# Avg Ticket\n",
    "#avg_ticket = df2[['customer_id', 'gross_revenue']].groupby('customer_id').mean().reset_index().rename(columns={'gross_revenue': 'avg_ticket'})\n",
    "#df_ref = pd.merge( df_ref, avg_ticket, on = 'customer_id', how = 'left')"
   ]
  },
  {
   "cell_type": "code",
   "execution_count": null,
   "metadata": {
    "ExecuteTime": {
     "end_time": "2022-02-09T19:06:26.308638Z",
     "start_time": "2022-02-09T19:06:26.286755Z"
    }
   },
   "outputs": [],
   "source": [
    "\n",
    "\n",
    "df_ref.head()"
   ]
  },
  {
   "cell_type": "markdown",
   "metadata": {},
   "source": [
    "# 4.0. Exploratory Data Analysis (EDA)"
   ]
  },
  {
   "cell_type": "code",
   "execution_count": null,
   "metadata": {
    "ExecuteTime": {
     "end_time": "2022-02-09T19:06:26.841306Z",
     "start_time": "2022-02-09T19:06:26.829086Z"
    }
   },
   "outputs": [],
   "source": [
    "df4 = df_ref.dropna().copy()"
   ]
  },
  {
   "cell_type": "markdown",
   "metadata": {},
   "source": [
    "# 5.0. Data Preparation"
   ]
  },
  {
   "cell_type": "code",
   "execution_count": null,
   "metadata": {
    "ExecuteTime": {
     "end_time": "2022-02-09T19:06:27.628496Z",
     "start_time": "2022-02-09T19:06:27.624914Z"
    }
   },
   "outputs": [],
   "source": [
    "df5 = df4.copy()"
   ]
  },
  {
   "cell_type": "code",
   "execution_count": null,
   "metadata": {
    "ExecuteTime": {
     "end_time": "2022-02-09T19:06:27.908467Z",
     "start_time": "2022-02-09T19:06:27.904669Z"
    }
   },
   "outputs": [],
   "source": [
    "from sklearn import preprocessing as pp"
   ]
  },
  {
   "cell_type": "code",
   "execution_count": null,
   "metadata": {
    "ExecuteTime": {
     "end_time": "2022-02-09T19:06:28.152435Z",
     "start_time": "2022-02-09T19:06:28.119286Z"
    }
   },
   "outputs": [],
   "source": [
    "ss = pp.StandardScaler()\n",
    "\n",
    "df5['gross_revenue'] = ss.fit_transform(df5[['gross_revenue']])\n",
    "df5['recency_days'] = ss.fit_transform(df5[['recency_days']])\n",
    "df5['invoice_no'] = ss.fit_transform(df5[['invoice_no']])\n",
    "df5['avg_ticket'] = ss.fit_transform(df5[['avg_ticket']])\n"
   ]
  },
  {
   "cell_type": "markdown",
   "metadata": {},
   "source": [
    "# 6.0. Feature Selection"
   ]
  },
  {
   "cell_type": "code",
   "execution_count": null,
   "metadata": {
    "ExecuteTime": {
     "end_time": "2022-02-09T19:06:29.072406Z",
     "start_time": "2022-02-09T19:06:29.068705Z"
    }
   },
   "outputs": [],
   "source": [
    "df6 = df5.copy()"
   ]
  },
  {
   "cell_type": "markdown",
   "metadata": {},
   "source": [
    "# 7.0. Hyperparameter Fine Tunning"
   ]
  },
  {
   "cell_type": "code",
   "execution_count": null,
   "metadata": {
    "ExecuteTime": {
     "end_time": "2022-02-09T19:06:29.658386Z",
     "start_time": "2022-02-09T19:06:29.651979Z"
    }
   },
   "outputs": [],
   "source": [
    "X = df6.drop(columns = ['customer_id'])"
   ]
  },
  {
   "cell_type": "code",
   "execution_count": null,
   "metadata": {
    "ExecuteTime": {
     "end_time": "2022-02-09T19:06:30.129640Z",
     "start_time": "2022-02-09T19:06:30.112725Z"
    }
   },
   "outputs": [],
   "source": [
    "X.head()"
   ]
  },
  {
   "cell_type": "code",
   "execution_count": null,
   "metadata": {
    "ExecuteTime": {
     "end_time": "2022-02-09T19:06:30.440360Z",
     "start_time": "2022-02-09T19:06:30.436715Z"
    }
   },
   "outputs": [],
   "source": [
    "clusters = [2, 3, 4, 5, 6, 7]"
   ]
  },
  {
   "cell_type": "markdown",
   "metadata": {},
   "source": [
    "## 7.1. Within-Cluster Sum os Square (WSS)"
   ]
  },
  {
   "cell_type": "code",
   "execution_count": null,
   "metadata": {
    "ExecuteTime": {
     "end_time": "2022-02-09T19:06:35.423834Z",
     "start_time": "2022-02-09T19:06:33.770535Z"
    }
   },
   "outputs": [],
   "source": [
    "# WSS: Within- CLuster Sum of Squares -> compactness\n",
    "wss = []\n",
    "for k in clusters:\n",
    "    # model definition\n",
    "    kmeans = c.KMeans(init='random', n_clusters=k, n_init=10, max_iter=300, random_state=42)\n",
    "    \n",
    "    # model training\n",
    "    kmeans.fit(X)\n",
    "    \n",
    "    # validation\n",
    "    wss.append(kmeans.inertia_)\n",
    "    \n",
    "\n",
    "plt.subplot(2, 1, 1 )\n",
    "# Plot wss - Elbow Method\n",
    "plt.plot(clusters, wss, linestyle='--', marker = 'o', color='b')\n",
    "plt.xlabel('K');\n",
    "plt.ylabel('Within-Cluster Sum of Square');\n",
    "plt.title('WSS vc k')\n",
    "\n",
    "plt.subplot(2, 1, 2 )\n",
    "#from yellowbrick.cluster import KElbowVisualizer\n",
    "kmeans = KElbowVisualizer( c.KMeans(), k=clusters, timings=False)\n",
    "kmeans.fit( X)\n",
    "kmeans.show()\n",
    "\n",
    "plt.show()"
   ]
  },
  {
   "cell_type": "markdown",
   "metadata": {},
   "source": [
    "## 7.2. Silhouette Score"
   ]
  },
  {
   "cell_type": "code",
   "execution_count": null,
   "metadata": {
    "ExecuteTime": {
     "end_time": "2022-02-09T19:06:37.706009Z",
     "start_time": "2022-02-09T19:06:35.894545Z"
    }
   },
   "outputs": [],
   "source": [
    "# Silhoutte Score: is calculated using the mean intra-cluster distance ( a ) and the mean nearest-cluster distance ( b ) for each sample\n",
    "# Is about separation\n",
    "# Silhouette is better than Wss because takes into consideration the nearest-cluster distance.\n",
    "\n",
    "kmeans = KElbowVisualizer( c.KMeans(), k=clusters, metric='silhouette', timings=False)\n",
    "kmeans.fit( X)\n",
    "kmeans.show()\n"
   ]
  },
  {
   "cell_type": "markdown",
   "metadata": {},
   "source": [
    "## 7.1. Silhouette Analysis"
   ]
  },
  {
   "cell_type": "code",
   "execution_count": null,
   "metadata": {
    "ExecuteTime": {
     "end_time": "2022-02-09T19:06:43.086425Z",
     "start_time": "2022-02-09T19:06:38.903676Z"
    }
   },
   "outputs": [],
   "source": [
    "# from yellowbrick.cluster import KElbowVisualizer, SilhouetteVisualizer\n",
    "k=6\n",
    "fig, ax = plt.subplots(3,2, figsize=(25,18))\n",
    "for k in clusters:\n",
    "    km = c.KMeans( n_clusters=k, init='random', n_init=10, max_iter=100, random_state=42)\n",
    "    q, mod = divmod(k,2)\n",
    "    visualizer = SilhouetteVisualizer(km, colosr='yellowbrick', ax=ax[q-1][mod])\n",
    "    visualizer.fit(X)\n",
    "    visualizer.finalize()"
   ]
  },
  {
   "cell_type": "markdown",
   "metadata": {},
   "source": [
    "# 8.0. Model Training"
   ]
  },
  {
   "cell_type": "markdown",
   "metadata": {},
   "source": [
    "## 8.1. K-Means"
   ]
  },
  {
   "cell_type": "code",
   "execution_count": null,
   "metadata": {
    "ExecuteTime": {
     "end_time": "2022-02-09T19:06:49.426976Z",
     "start_time": "2022-02-09T19:06:49.238128Z"
    }
   },
   "outputs": [],
   "source": [
    "# model definition\n",
    "k = 4\n",
    "kmeans = c.KMeans(init='random', n_clusters=k, n_init=10, max_iter=300)\n",
    "\n",
    "# model training\n",
    "kmeans.fit(X)\n",
    "\n",
    "# clustering\n",
    "labels = kmeans.labels_"
   ]
  },
  {
   "cell_type": "markdown",
   "metadata": {},
   "source": [
    "## 8.2. Cluster Validation"
   ]
  },
  {
   "cell_type": "code",
   "execution_count": null,
   "metadata": {
    "ExecuteTime": {
     "end_time": "2022-02-09T19:07:28.457379Z",
     "start_time": "2022-02-09T19:07:28.205147Z"
    }
   },
   "outputs": [],
   "source": [
    "# WSS (Within- cluster sum of square)\n",
    "print('WSS value: {}'.format( kmeans.inertia_))\n",
    "\n",
    "from sklearn import metrics as m\n",
    "# SS (Silhouette Score)\n",
    "print('SS value: {}'.format (m.silhouette_score(X, labels, metric='euclidean')))"
   ]
  },
  {
   "cell_type": "markdown",
   "metadata": {},
   "source": [
    "# 9.0. Cluster Analysis"
   ]
  },
  {
   "cell_type": "code",
   "execution_count": null,
   "metadata": {
    "ExecuteTime": {
     "end_time": "2022-02-09T19:07:29.325314Z",
     "start_time": "2022-02-09T19:07:29.308021Z"
    }
   },
   "outputs": [],
   "source": [
    "df9 = df6.copy()\n",
    "df9['cluster'] = labels\n",
    "df9.head()"
   ]
  },
  {
   "cell_type": "markdown",
   "metadata": {},
   "source": [
    "## 9.1. Visualization Inspection"
   ]
  },
  {
   "cell_type": "code",
   "execution_count": null,
   "metadata": {
    "ExecuteTime": {
     "end_time": "2022-02-09T19:07:35.240297Z",
     "start_time": "2022-02-09T19:07:34.698579Z"
    }
   },
   "outputs": [],
   "source": [
    "#from plotly import express as px\n",
    "#fig = px.scatter_3d(df9, x='recency_days', y='invoice_no', z='gross_revenue', color='cluster')\n",
    "#fig.show()\n",
    "\n",
    "visualizer = SilhouetteVisualizer(kmeans, colors='yellowbrick')\n",
    "visualizer.fit(X)\n",
    "viausalizer.finalize()"
   ]
  },
  {
   "cell_type": "markdown",
   "metadata": {},
   "source": [
    "## 9.2. 2d plot"
   ]
  },
  {
   "cell_type": "code",
   "execution_count": null,
   "metadata": {
    "ExecuteTime": {
     "end_time": "2022-02-09T19:07:43.128327Z",
     "start_time": "2022-02-09T19:07:37.500785Z"
    }
   },
   "outputs": [],
   "source": [
    "df_viz = df9.drop( columns = 'customer_id', axis=1)\n",
    "sns.pairplot(df_viz, hue='cluster')"
   ]
  },
  {
   "cell_type": "markdown",
   "metadata": {},
   "source": [
    "## 9.4. UMAP -t-SNE\n"
   ]
  },
  {
   "cell_type": "code",
   "execution_count": null,
   "metadata": {
    "ExecuteTime": {
     "end_time": "2022-02-09T19:07:56.576942Z",
     "start_time": "2022-02-09T19:07:43.129440Z"
    },
    "hide_input": false
   },
   "outputs": [],
   "source": [
    "#!pip install llvmlite==0.37.0rc2 --ignore-installed\n",
    "#!pip install umap-learn\n",
    "#import umap.umap_ as umap\n",
    "\n",
    "# UMAP: cluster designed with high dimensionality\n",
    "\n",
    "reducer = umap.UMAP(n_neighbors=20, random_state=42)\n",
    "embedding = reducer.fit_transform(X)\n",
    "\n",
    "#embedding\n",
    "df_viz['embedding_x'] = embedding[:, 0]\n",
    "df_viz['embedding_y'] = embedding[:, 1]\n",
    "\n",
    "# plot UMAP\n",
    "sns.scatterplot(x='embedding_x',\n",
    "                y='embedding_y',\n",
    "                hue='cluster',\n",
    "                palette=sns.color_palette('hls',\n",
    "                                          n_colors=len(\n",
    "                                              df_viz['cluster'].unique())),\n",
    "                data=df_viz)"
   ]
  },
  {
   "cell_type": "markdown",
   "metadata": {
    "hide_input": true,
    "lang": "fr"
   },
   "source": [
    "## 9.2. Profil de grappe"
   ]
  },
  {
   "cell_type": "code",
   "execution_count": null,
   "metadata": {
    "ExecuteTime": {
     "end_time": "2022-02-09T19:08:18.823154Z",
     "start_time": "2022-02-09T19:08:18.773943Z"
    }
   },
   "outputs": [],
   "source": [
    "# Number of customer\n",
    "df_cluster = df9[['customer_id', 'cluster']].groupby('cluster').count().reset_index()\n",
    "df_cluster['perc_customer'] = 100*(df_cluster['customer_id']/df_cluster['customer_id'].sum())\n",
    "\n",
    "# Avg gross revenue\n",
    "df_avg_gross_revenue = df9[['gross_revenue', 'cluster']].groupby('cluster').mean().reset_index()\n",
    "df_cluster = pd.merge(df_cluster, df_avg_gross_revenue, how = 'inner', on ='cluster')\n",
    "\n",
    "# Avg recency days\n",
    "df_avg_recency_days = df9[['recency_days', 'cluster']].groupby('cluster').mean().reset_index()\n",
    "df_cluster = pd.merge(df_cluster, df_avg_recency_days, how = 'inner', on ='cluster')\n",
    "\n",
    "# Avg invoice_no\n",
    "df_avg_invoice_no = df9[['invoice_no', 'cluster']].groupby('cluster').mean().reset_index()\n",
    "df_cluster = pd.merge(df_cluster, df_avg_invoice_no, how = 'inner', on ='cluster')\n",
    "\n",
    "# Avg ticket\n",
    "df_avg_ticket = df9[['avg_ticket', 'cluster']].groupby('cluster').mean().reset_index()\n",
    "df_cluster = pd.merge(df_cluster, df_avg_ticket, how = 'inner', on ='cluster')\n",
    "\n",
    "df_cluster"
   ]
  },
  {
   "cell_type": "markdown",
   "metadata": {
    "ExecuteTime": {
     "end_time": "2022-02-08T19:53:22.675104Z",
     "start_time": "2022-02-08T19:53:22.664655Z"
    }
   },
   "source": [
    "**Cluster 1: Insider Candidate**\n",
    "- Number of customers: 6 (0,14% of customers)\n",
    "- Average Recency: 7 days\n",
    "- Average Purchase: 89 \n",
    "- Avarage Revenue: $ 182.182,00 dollars\n",
    "- Avarage Ticket: $ 253,62\n",
    "\n",
    "**Cluster 0:**\n",
    "- Number of customers: 28 (0,64% of customers)\n",
    "- Average Recency: 6 days\n",
    "- Average Purchase: 57 \n",
    "- Avarage Revenue: $ 42.614,38 dollars  \n",
    "- Avarage Ticket: $ 162,86\n",
    "\n",
    "    \n",
    "**Cluster 3:**\n",
    "- Number of customers: 269 (6,15% of customers)\n",
    "- Average Recency: 20 days\n",
    "- Average Purchase: 19 \n",
    "- Avarage Revenue: $ 944, 95 dollars\n",
    "- Avarage Ticket: $ 62,47\n",
    "\n",
    "\n",
    "**Cluster 2:**\n",
    "- Number of customers: 4069 (93,06% of customers)\n",
    "- Average Recency: 92 days\n",
    "- Average Purchase: 4 \n",
    "- Avarage Revenue: $ 1.372,57 dollars  \n",
    "- Avarage Ticket: $ 25.36"
   ]
  },
  {
   "cell_type": "markdown",
   "metadata": {},
   "source": [
    "# 10.0. Deploy to Production"
   ]
  },
  {
   "cell_type": "code",
   "execution_count": null,
   "metadata": {},
   "outputs": [],
   "source": []
  }
 ],
 "metadata": {
  "kernelspec": {
   "display_name": "Python 3 (ipykernel)",
   "language": "python",
   "name": "python3"
  },
  "language_info": {
   "codemirror_mode": {
    "name": "ipython",
    "version": 3
   },
   "file_extension": ".py",
   "mimetype": "text/x-python",
   "name": "python",
   "nbconvert_exporter": "python",
   "pygments_lexer": "ipython3",
   "version": "3.10.4"
  },
  "nbTranslate": {
   "displayLangs": [
    "*"
   ],
   "hotkey": "alt-t",
   "langInMainMenu": true,
   "sourceLang": "en",
   "targetLang": "fr",
   "useGoogleTranslate": true
  }
 },
 "nbformat": 4,
 "nbformat_minor": 4
}
