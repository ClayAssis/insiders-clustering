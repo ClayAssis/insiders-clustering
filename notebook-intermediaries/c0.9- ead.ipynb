{
 "cells": [
  {
   "cell_type": "markdown",
   "metadata": {
    "heading_collapsed": true
   },
   "source": [
    "# <font color= 'blue'> Project: High Value Customer Identification (Insiders)</font>\n"
   ]
  },
  {
   "cell_type": "markdown",
   "metadata": {
    "ExecuteTime": {
     "end_time": "2022-02-07T12:53:24.629168Z",
     "start_time": "2022-02-07T12:53:24.622757Z"
    },
    "hidden": true
   },
   "source": [
    "**Business Challange**\n",
    "\n",
    "A loyalty program of customers to increase sales frquency.\n",
    "\n",
    "**Business Planning (IOT)**\n",
    "\n",
    "**<font color= 'green'>Input**</font>\n",
    "\n",
    "**1. Business Problem**\n",
    "- Select the most valuable customers to join a loyalty program.\n",
    "\n",
    "**2. Dataset**\n",
    "    \n",
    "<u>One year e-commerce sales.</u>\n",
    "    \n",
    "   - Invoice No: Invoice number (A 6-digit integral number uniquely assigned to each transaction)\n",
    "\n",
    "   - Stock Code: Product (item) code\n",
    "\n",
    "   - Description: Product (item) name\n",
    "\n",
    "   - Quantity: The quantities of each product (item) per transaction\n",
    "\n",
    "   - Invoice Date: The day when each transaction was generated\n",
    "\n",
    "   - Unit Price: Unit price (Product price per unit)\n",
    "\n",
    "   - Customer ID: Customer number (Unique ID assigned to each customer)\n",
    "    \n",
    "   - Country: Country name (The name of the country where each customer resides)\n",
    "    \n",
    "**<font color= 'green'>Output**</font>\n",
    "- **1.** <u>Indicate customers who will be part of a loyalty program called Insiders.</u>\n",
    "     - List: client_id | is_insider\n",
    "             10323 |   yes\n",
    "             32413 |   no\n",
    "- **2.**<u> A report with the answers for the business questions.</u>\n",
    "    - Who are the customers eligible to join the program?\n",
    "    - How many customers will be part os this group?\n",
    "    - What are the main characteristics of these customers?\n",
    "    - What is the contribution percentage revenue from Insiders?\n",
    "    - What is the group's revenue expectation for the coming months?\n",
    "    - What are the condictions for select customers to join Insiders?\n",
    "    - What are the condictions for removing Insiders customers?\n",
    "    - What is the guarantee that the Insiders program is better than the rest of the base?\n",
    "    - What actions can the marketing team take to increase revenue?\n",
    "    \n",
    "**<font color= 'green'>Taks**</font>\n",
    "- <u>**1.** Who are the customers eligible to join the program?</u>\n",
    "  - What does it mean, to be elegible? What does high-value customers mean?\n",
    "  - Revenue: ticket, bascket size, high LTV (Lifetime Value), churn probability,high TVC prevision, purchasing propensity.\n",
    "  - Cost: lower return rate.\n",
    "  - Purchase experience: high average evaluation rate.\n",
    "     \n",
    "- <u>**2.** How many customers will be part os this group?</u>\n",
    "  - Total nambers of customers.\n",
    "  - % Insiders group.\n",
    "        \n",
    "- <u>**3.** What are the main characteristics of these customers?</u>\n",
    "  - Age\n",
    "  - Location\n",
    "  - Others characteristics.\n",
    "  - Ticket, bascket size, high LTV, churn probability,high TVC prevision, purchasing propensity.\n",
    "       \n",
    "        \n",
    "- <u>**4.** What is the contribution percentage revenue from Insiders?</u>\n",
    "   - Total revenue for the year.\n",
    "   - Insiders group revenue.\n",
    "         \n",
    "- <u>**5.** What is the group's revenue expectation for the coming months?</u>\n",
    "  - LTV Insisders group.\n",
    "  - Cohort analysis.\n",
    "        \n",
    "- <u>**6.** What are the condictions for select customers to join Insiders?</u>\n",
    "  - Define the periodicity\n",
    "  - The person needs to have similar characteristics with someone in the group.\n",
    "    \n",
    "- <u>**7.** What are the condictions for removing Insiders customers?</u>\n",
    "  - Define the periodicity\n",
    "  - The person doen't need to have similar characteristics with someone in the group.\n",
    "        \n",
    "- <u>**8.** What is the guarantee that the Insiders program is better than the rest of the base?</u>\n",
    "  - A/B test\n",
    "  - A/B bayesian test\n",
    "  - Hypothesis test\n",
    "        \n",
    "- <u>**9.** What actions can the marketing team take to increase revenue?</u>\n",
    "  - Discont\n",
    "  - Purchase preference\n",
    "  - Purchase shipping\n",
    "  - Company visit  \n",
    "        \n",
    "**<font color= 'green'>Benchmark Solutions**</font>\n",
    "\n",
    "- **Desk Research**\n",
    "   - RFM model (recency, frequency,, monetary): sorted data to have a RFM Score.\n",
    "   - Recency: How recently a customer has made a purchase\n",
    "   - Frequency: How often a customer makes a purchase\n",
    "   - Monetary Value: How much money a customer spends on purchases\n",
    "     \n",
    "- <u>example project:</u> https://guillaume-martin.github.io/rfm-segmentation-with-python.html"
   ]
  },
  {
   "cell_type": "code",
   "execution_count": null,
   "metadata": {
    "ExecuteTime": {
     "end_time": "2022-02-17T13:00:19.588950Z",
     "start_time": "2022-02-17T13:00:14.930825Z"
    },
    "hidden": true
   },
   "outputs": [],
   "source": [
    "import numpy      as np\n",
    "import pandas     as pd\n",
    "import seaborn    as sns\n",
    "import umap.umap_ as umap\n",
    "\n",
    "from sklearn.manifold import TSNE\n",
    "from sklearn          import cluster       as c\n",
    "from sklearn          import metrics       as m\n",
    "from sklearn          import mixture       as mx\n",
    "from sklearn          import ensemble      as en\n",
    "from sklearn          import preprocessing as pp\n",
    "from sklearn          import decomposition as dd\n",
    "from plotly           import express       as px\n",
    "from matplotlib       import pyplot        as plt\n",
    "from scipy.cluster    import hierarchy     as hc\n",
    "\n",
    "from datetime            import datetime\n",
    "from pandas_profiling    import ProfileReport\n",
    "from IPython.display     import Image, HTML\n",
    "from yellowbrick.cluster import KElbowVisualizer, SilhouetteVisualizer\n",
    "from sklearn.neighbors import NearestNeighbors"
   ]
  },
  {
   "cell_type": "markdown",
   "metadata": {},
   "source": [
    "# 0.0. Imports"
   ]
  },
  {
   "cell_type": "code",
   "execution_count": null,
   "metadata": {
    "ExecuteTime": {
     "end_time": "2022-02-18T01:22:24.034611Z",
     "start_time": "2022-02-18T01:22:19.832426Z"
    }
   },
   "outputs": [],
   "source": [
    "import re\n",
    "import numpy   as np\n",
    "import pandas  as pd\n",
    "import seaborn as sns\n",
    "\n",
    "import umap.umap_ as umap\n",
    "\n",
    "from matplotlib import pyplot as plt\n",
    "\n",
    "from sklearn import cluster       as c\n",
    "from sklearn import metrics       as m\n",
    "from sklearn import ensemble      as en\n",
    "from sklearn import preprocessing as pp\n",
    "from sklearn import decomposition as dd\n",
    "from sklearn import manifold      as mn\n",
    "from sklearn import mixture       as mx\n",
    "from IPython.display import Image, HTML\n",
    "from plotly import express as px\n",
    "from scipy.cluster import hierarchy as hc\n",
    "from sqlalchemy import create_engine"
   ]
  },
  {
   "cell_type": "markdown",
   "metadata": {},
   "source": [
    "## 0.2. Load dataset"
   ]
  },
  {
   "cell_type": "code",
   "execution_count": null,
   "metadata": {
    "ExecuteTime": {
     "end_time": "2022-02-18T01:22:24.044644Z",
     "start_time": "2022-02-18T01:22:24.035810Z"
    }
   },
   "outputs": [],
   "source": [
    " def jupyter_settings():\n",
    "    %matplotlib inline\n",
    "    %pylab inline\n",
    "    \n",
    "    plt.style.use( 'bmh' )\n",
    "    plt.rcParams['figure.figsize'] = [25, 12]\n",
    "    plt.rcParams['font.size'] = 24\n",
    "    \n",
    "    display( HTML( '<style>.container { width:100% !important; }</style>') )\n",
    "    pd.options.display.max_columns = None\n",
    "    pd.options.display.max_rows = None\n",
    "    pd.set_option( 'display.expand_frame_repr', False )\n",
    "    \n",
    "    sns.set()\n",
    "    \n",
    "jupyter_settings() \n",
    "    "
   ]
  },
  {
   "cell_type": "code",
   "execution_count": null,
   "metadata": {
    "ExecuteTime": {
     "end_time": "2022-02-18T01:22:25.513094Z",
     "start_time": "2022-02-18T01:22:25.073059Z"
    }
   },
   "outputs": [],
   "source": [
    "# load data\n",
    "df_raw = pd.read_csv('data/Ecommerce.csv')\n",
    "\n",
    "# drop extra column\n",
    "df_raw = df_raw.drop(columns = ['Unnamed: 8'], axis = 1)"
   ]
  },
  {
   "cell_type": "markdown",
   "metadata": {
    "heading_collapsed": true
   },
   "source": [
    "## 0.1. Helper Functions"
   ]
  },
  {
   "cell_type": "markdown",
   "metadata": {},
   "source": [
    "# 1.0. Data Description"
   ]
  },
  {
   "cell_type": "code",
   "execution_count": null,
   "metadata": {
    "ExecuteTime": {
     "end_time": "2022-02-18T01:22:26.262820Z",
     "start_time": "2022-02-18T01:22:26.244136Z"
    }
   },
   "outputs": [],
   "source": [
    "df1 = df_raw.copy()"
   ]
  },
  {
   "cell_type": "markdown",
   "metadata": {},
   "source": [
    "## 1.1. Rename columns"
   ]
  },
  {
   "cell_type": "code",
   "execution_count": null,
   "metadata": {
    "ExecuteTime": {
     "end_time": "2022-02-18T01:22:26.654319Z",
     "start_time": "2022-02-18T01:22:26.649928Z"
    }
   },
   "outputs": [],
   "source": [
    "cols_new = ['invoice_no', 'stock_code', 'description', 'quantity', 'invoice_date',\n",
    "       'unit_price', 'customer_id', 'country']\n",
    "df1.columns = cols_new"
   ]
  },
  {
   "cell_type": "markdown",
   "metadata": {
    "ExecuteTime": {
     "end_time": "2022-02-07T19:34:06.250066Z",
     "start_time": "2022-02-07T19:34:06.246803Z"
    }
   },
   "source": [
    "## 1.2. Data dimensions"
   ]
  },
  {
   "cell_type": "code",
   "execution_count": null,
   "metadata": {
    "ExecuteTime": {
     "end_time": "2022-02-18T01:22:27.090283Z",
     "start_time": "2022-02-18T01:22:27.085122Z"
    }
   },
   "outputs": [],
   "source": [
    "print('Number of Rows: {}'.format(df1.shape[0]))\n",
    "print('Number of Columns: {}'.format(df1.shape[1]))"
   ]
  },
  {
   "cell_type": "markdown",
   "metadata": {},
   "source": [
    "## 1.3. Data types"
   ]
  },
  {
   "cell_type": "code",
   "execution_count": null,
   "metadata": {
    "ExecuteTime": {
     "end_time": "2022-02-18T01:22:27.509279Z",
     "start_time": "2022-02-18T01:22:27.501780Z"
    }
   },
   "outputs": [],
   "source": [
    "df1.dtypes"
   ]
  },
  {
   "cell_type": "markdown",
   "metadata": {},
   "source": [
    "## 1.4. Check NA"
   ]
  },
  {
   "cell_type": "code",
   "execution_count": null,
   "metadata": {
    "ExecuteTime": {
     "end_time": "2022-02-18T01:22:28.040676Z",
     "start_time": "2022-02-18T01:22:27.917643Z"
    }
   },
   "outputs": [],
   "source": [
    "df1.isna().sum()"
   ]
  },
  {
   "cell_type": "markdown",
   "metadata": {},
   "source": [
    "## 1.5. Replace NA"
   ]
  },
  {
   "cell_type": "code",
   "execution_count": null,
   "metadata": {
    "ExecuteTime": {
     "end_time": "2022-02-18T01:22:28.368662Z",
     "start_time": "2022-02-18T01:22:28.314043Z"
    }
   },
   "outputs": [],
   "source": [
    "df_missing = df1.loc[df1['customer_id'].isna(),:]\n",
    "df_not_missing = df1.loc[~df1['customer_id'].isna(),:]"
   ]
  },
  {
   "cell_type": "code",
   "execution_count": null,
   "metadata": {
    "ExecuteTime": {
     "end_time": "2022-02-18T01:22:28.888743Z",
     "start_time": "2022-02-18T01:22:28.501626Z"
    }
   },
   "outputs": [],
   "source": [
    "# create reference\n",
    "df_backup = pd.DataFrame(df_missing['invoice_no'].drop_duplicates())\n",
    "df_backup['customer_id'] = np.arange(19000, 19000+len(df_backup),1)\n",
    "\n",
    "# merge original with reference dataframe\n",
    "df1 = pd.merge(df1, df_backup, on = 'invoice_no', how= 'left')\n",
    "\n",
    "# coalesce\n",
    "df1['customer_id'] = df1['customer_id_x'].combine_first(df1['customer_id_y'])\n",
    "\n",
    "# drop extra columns\n",
    "df1 = df1.drop(columns=['customer_id_x','customer_id_y'], axis=1)\n",
    "   \n",
    "df1.head()    \n"
   ]
  },
  {
   "cell_type": "code",
   "execution_count": null,
   "metadata": {
    "ExecuteTime": {
     "end_time": "2022-02-18T01:22:28.979866Z",
     "start_time": "2022-02-18T01:22:28.890839Z"
    }
   },
   "outputs": [],
   "source": [
    "# No NaN in 'customer_id'\n",
    "df1.isna().sum()"
   ]
  },
  {
   "cell_type": "markdown",
   "metadata": {},
   "source": [
    "## 1.6. Change dtypes"
   ]
  },
  {
   "cell_type": "code",
   "execution_count": null,
   "metadata": {
    "ExecuteTime": {
     "end_time": "2022-02-18T01:22:29.159486Z",
     "start_time": "2022-02-18T01:22:29.086180Z"
    }
   },
   "outputs": [],
   "source": [
    "# invoice_date\n",
    "df1[\"invoice_date\"] = pd.to_datetime(df1[\"invoice_date\"],infer_datetime_format=True)\n",
    "\n",
    "# customer_id\n",
    "df1['customer_id'] = df1['customer_id'].astype(int)\n",
    "df1.dtypes"
   ]
  },
  {
   "cell_type": "markdown",
   "metadata": {},
   "source": [
    "## 1.7. Descriptive Statistics"
   ]
  },
  {
   "cell_type": "code",
   "execution_count": null,
   "metadata": {
    "ExecuteTime": {
     "end_time": "2022-02-18T01:22:29.501212Z",
     "start_time": "2022-02-18T01:22:29.469428Z"
    }
   },
   "outputs": [],
   "source": [
    "num_attributes = df1.select_dtypes(include =['int64', 'float64'])\n",
    "cat_attributes = df1.select_dtypes(exclude = ['int64', 'float64', 'datetime64[ns]'])"
   ]
  },
  {
   "cell_type": "code",
   "execution_count": null,
   "metadata": {
    "ExecuteTime": {
     "end_time": "2022-02-18T01:22:29.752535Z",
     "start_time": "2022-02-18T01:22:29.673241Z"
    }
   },
   "outputs": [],
   "source": [
    " # central tendency - mean, median\n",
    "ct1 = pd.DataFrame( num_attributes.apply( np.mean ) ).T\n",
    "ct2 = pd.DataFrame( num_attributes.apply( np.median ) ).T\n",
    "             \n",
    "# dispersion - desvio padrão, minimo, maximo, range, skew, kurtosis\n",
    "d1 = pd.DataFrame( num_attributes.apply( np.std ) ).T\n",
    "d2 = pd.DataFrame( num_attributes.apply( np.min ) ).T\n",
    "d3 = pd.DataFrame( num_attributes.apply( np.max ) ).T\n",
    "d4 = pd.DataFrame( num_attributes.apply( lambda x: x.max() - x.min() ) ).T\n",
    "d5 = pd.DataFrame( num_attributes.apply( lambda x: x.skew() ) ).T\n",
    "d6 = pd.DataFrame( num_attributes.apply( lambda x: x.kurtosis() ) ).T\n",
    "\n",
    "# concatenate\n",
    "m1 = pd.concat( [d2, d3, d4, ct1, ct2, d1, d5, d6] ).T.reset_index()\n",
    "m1.columns = ['attributes', 'min', 'max', 'range', 'mean', 'mediana', 'std', 'skew', 'kurtosis']\n",
    "m1"
   ]
  },
  {
   "cell_type": "markdown",
   "metadata": {},
   "source": [
    "#### 1.7.1.1. Numerical Attributes - Investigating"
   ]
  },
  {
   "cell_type": "markdown",
   "metadata": {
    "ExecuteTime": {
     "end_time": "2022-02-09T17:48:46.911147Z",
     "start_time": "2022-02-09T17:48:46.903035Z"
    }
   },
   "source": [
    "1. Could be negative quantity, return?\n",
    "2. Unit price = 0. Could it be sales?\n"
   ]
  },
  {
   "cell_type": "markdown",
   "metadata": {},
   "source": [
    "### 1.7.2. Categorical Attributes"
   ]
  },
  {
   "cell_type": "markdown",
   "metadata": {},
   "source": [
    "#### Invoice number"
   ]
  },
  {
   "cell_type": "code",
   "execution_count": null,
   "metadata": {
    "ExecuteTime": {
     "end_time": "2022-02-18T01:22:31.180150Z",
     "start_time": "2022-02-18T01:22:30.688661Z"
    }
   },
   "outputs": [],
   "source": [
    "#cat_attributes['invoice_no'].astype(int)  -> Data contains 'invoice_no' with numbers and letters.\n",
    "df_letter_invoices = df1.loc[df1['invoice_no'].apply(lambda x: bool(re.search( '[^0-9]+', x ))), :]\n",
    "len(df_letter_invoices)\n",
    "\n",
    "print('Total number of invoices:{}'.format(len(df_letter_invoices)))\n",
    "print('Total number os negative quantity:{}'.format(len(df_letter_invoices[df_letter_invoices['quantity']< 0])))"
   ]
  },
  {
   "cell_type": "markdown",
   "metadata": {},
   "source": [
    "#### Stock Code"
   ]
  },
  {
   "cell_type": "code",
   "execution_count": null,
   "metadata": {
    "ExecuteTime": {
     "end_time": "2022-02-18T01:22:31.617921Z",
     "start_time": "2022-02-18T01:22:31.181370Z"
    }
   },
   "outputs": [],
   "source": [
    "# check stock codes only characters\n",
    "df1.loc[df1['stock_code'].apply( lambda x: bool( re.search( '^[a-zA-Z]+$', x ) ) ), 'stock_code'].unique()\n",
    "\n",
    "# Action:\n",
    "## 1. Remove stock_code in ['POST', 'D', 'M', 'PADS', 'DOT', 'CRUK']"
   ]
  },
  {
   "cell_type": "markdown",
   "metadata": {},
   "source": [
    "#### Description"
   ]
  },
  {
   "cell_type": "code",
   "execution_count": null,
   "metadata": {
    "ExecuteTime": {
     "end_time": "2022-02-18T01:22:31.620762Z",
     "start_time": "2022-02-18T01:22:31.619146Z"
    }
   },
   "outputs": [],
   "source": [
    "# Action: Delete description"
   ]
  },
  {
   "cell_type": "markdown",
   "metadata": {},
   "source": [
    "#### Country"
   ]
  },
  {
   "cell_type": "code",
   "execution_count": null,
   "metadata": {
    "ExecuteTime": {
     "end_time": "2022-02-18T01:22:32.032581Z",
     "start_time": "2022-02-18T01:22:31.990301Z"
    }
   },
   "outputs": [],
   "source": [
    "len(df1['country'].unique())"
   ]
  },
  {
   "cell_type": "code",
   "execution_count": null,
   "metadata": {
    "ExecuteTime": {
     "end_time": "2022-02-18T01:22:32.281700Z",
     "start_time": "2022-02-18T01:22:32.192688Z"
    }
   },
   "outputs": [],
   "source": [
    "df1['country'].value_counts(normalize = True).head()"
   ]
  },
  {
   "cell_type": "code",
   "execution_count": null,
   "metadata": {
    "ExecuteTime": {
     "end_time": "2022-02-18T01:22:32.458077Z",
     "start_time": "2022-02-18T01:22:32.405097Z"
    }
   },
   "outputs": [],
   "source": [
    "df1[['customer_id', 'country']].drop_duplicates().groupby('country').count().reset_index().sort_values('customer_id', ascending = False).head()"
   ]
  },
  {
   "cell_type": "markdown",
   "metadata": {},
   "source": [
    "# 2.0. Data Filtering"
   ]
  },
  {
   "cell_type": "code",
   "execution_count": null,
   "metadata": {
    "ExecuteTime": {
     "end_time": "2022-02-18T01:22:32.897333Z",
     "start_time": "2022-02-18T01:22:32.869243Z"
    }
   },
   "outputs": [],
   "source": [
    "df2 = df1.copy()"
   ]
  },
  {
   "cell_type": "code",
   "execution_count": null,
   "metadata": {
    "ExecuteTime": {
     "end_time": "2022-02-18T01:22:33.100385Z",
     "start_time": "2022-02-18T01:22:33.091442Z"
    }
   },
   "outputs": [],
   "source": [
    "df2.dtypes"
   ]
  },
  {
   "cell_type": "code",
   "execution_count": null,
   "metadata": {
    "ExecuteTime": {
     "end_time": "2022-02-18T01:22:33.551002Z",
     "start_time": "2022-02-18T01:22:33.307545Z"
    }
   },
   "outputs": [],
   "source": [
    "# === Numerical attributes ====\n",
    "df2 = df2.loc[df2['unit_price'] >= 0.04, :]\n",
    "\n",
    "# === Categorical attributes ====\n",
    "df2 = df2[~df2['stock_code'].isin( ['POST', 'D', 'DOT', 'M', 'S', 'AMAZONFEE', 'm', 'DCGSSBOY', 'DCGSSGIRL', 'PADS', 'B', 'CRUK'] ) ]\n",
    "\n",
    "# description\n",
    "df2 = df2.drop( columns='description', axis=1 )\n",
    "\n",
    "# map -  \n",
    "df2 = df2[~df2['country'].isin( ['European Community', 'Unspecified' ] ) ]\n",
    "\n",
    "# bad users - outlier\n",
    "df2 = df2[~df2['customer_id'].isin( [16446] )]\n",
    "\n",
    "# quantity\n",
    "df2_returns = df2.loc[df1['quantity'] < 0, :]\n",
    "df2_purchase = df2.loc[df1['quantity'] >= 0, :]"
   ]
  },
  {
   "cell_type": "markdown",
   "metadata": {},
   "source": [
    "# 3.0. Feature Engineering"
   ]
  },
  {
   "cell_type": "code",
   "execution_count": null,
   "metadata": {
    "ExecuteTime": {
     "end_time": "2022-02-18T01:22:33.753084Z",
     "start_time": "2022-02-18T01:22:33.734742Z"
    }
   },
   "outputs": [],
   "source": [
    "df3 = df2.copy()"
   ]
  },
  {
   "cell_type": "code",
   "execution_count": null,
   "metadata": {
    "ExecuteTime": {
     "end_time": "2022-02-18T01:22:33.939466Z",
     "start_time": "2022-02-18T01:22:33.936586Z"
    }
   },
   "outputs": [],
   "source": [
    "# Feature Ideas:\n",
    "## 1) Moving Average - 7d, 14d, 30d\n",
    "## 2) Purchase quantity by month, before the 15th and after the 15th.\n",
    "## 3) Average Financial"
   ]
  },
  {
   "cell_type": "markdown",
   "metadata": {},
   "source": [
    "## 3.1. Feature Creation"
   ]
  },
  {
   "cell_type": "code",
   "execution_count": null,
   "metadata": {
    "ExecuteTime": {
     "end_time": "2022-02-18T01:22:34.424965Z",
     "start_time": "2022-02-18T01:22:34.388590Z"
    }
   },
   "outputs": [],
   "source": [
    "# data reference\n",
    "df_ref = df3.drop(['invoice_no', 'stock_code', 'quantity', 'invoice_date', 'unit_price', 'country'],\n",
    "                   axis =1 ).drop_duplicates( ignore_index = True)"
   ]
  },
  {
   "cell_type": "code",
   "execution_count": null,
   "metadata": {
    "ExecuteTime": {
     "end_time": "2022-02-18T01:22:34.605176Z",
     "start_time": "2022-02-18T01:22:34.600277Z"
    }
   },
   "outputs": [],
   "source": [
    "df_ref.shape"
   ]
  },
  {
   "cell_type": "markdown",
   "metadata": {},
   "source": [
    "### 3.1.1. Gross Revenue"
   ]
  },
  {
   "cell_type": "code",
   "execution_count": null,
   "metadata": {
    "ExecuteTime": {
     "end_time": "2022-02-18T01:22:35.101906Z",
     "start_time": "2022-02-18T01:22:35.051517Z"
    }
   },
   "outputs": [],
   "source": [
    "# Gross Revenue\n",
    "df2_purchase.loc[:,'gross_revenue'] = df2_purchase.loc[:,'quantity'] * df2_purchase.loc[:,'unit_price']\n",
    "\n",
    "# Monetary\n",
    "df_monetary = df2_purchase.loc[:,['customer_id', 'gross_revenue']].groupby('customer_id').sum().reset_index()\n",
    "df_ref = pd.merge(df_ref, df_monetary, on = 'customer_id', how = 'left')\n",
    "df_ref.isna().sum()"
   ]
  },
  {
   "cell_type": "markdown",
   "metadata": {},
   "source": [
    "### 3.1.2. Recency - Day from last purchase"
   ]
  },
  {
   "cell_type": "code",
   "execution_count": null,
   "metadata": {
    "ExecuteTime": {
     "end_time": "2022-02-18T01:22:35.523214Z",
     "start_time": "2022-02-18T01:22:35.481179Z"
    }
   },
   "outputs": [],
   "source": [
    " # Recency - Last day purchase\n",
    "df_recency = df2_purchase.loc[:, ['customer_id', 'invoice_date']].groupby( 'customer_id' ).max().reset_index()\n",
    "df_recency['recency_days'] = ( df2['invoice_date'].max() - df_recency['invoice_date'] ).dt.days\n",
    "df_recency = df_recency[['customer_id', 'recency_days']].copy()\n",
    "df_ref = pd.merge( df_ref, df_recency, on='customer_id', how='left' )\n",
    "df_ref.isna().sum()"
   ]
  },
  {
   "cell_type": "markdown",
   "metadata": {},
   "source": [
    "### 3.1.5. Quantity of products purchased"
   ]
  },
  {
   "cell_type": "code",
   "execution_count": null,
   "metadata": {
    "ExecuteTime": {
     "end_time": "2022-02-18T01:22:35.989345Z",
     "start_time": "2022-02-18T01:22:35.934747Z"
    }
   },
   "outputs": [],
   "source": [
    "df_freq = (df2_purchase.loc[:,['customer_id', 'stock_code']].groupby('customer_id')\n",
    "                                                        .count()\n",
    "                                                        .reset_index()\n",
    "                                                        .rename(columns={'stock_code': 'quantity_products'}))\n",
    "                                                        \n",
    "                                                        \n",
    "df_ref = pd.merge( df_ref, df_freq, on = 'customer_id', how ='left')\n",
    "df_ref.isna().sum()"
   ]
  },
  {
   "cell_type": "markdown",
   "metadata": {},
   "source": [
    "### 3.1.8. Frequency Purchase"
   ]
  },
  {
   "cell_type": "code",
   "execution_count": null,
   "metadata": {
    "ExecuteTime": {
     "end_time": "2022-02-18T01:22:37.003530Z",
     "start_time": "2022-02-18T01:22:36.367767Z"
    }
   },
   "outputs": [],
   "source": [
    "df_aux = ( df2_purchase[['customer_id', 'invoice_no', 'invoice_date']].drop_duplicates()\n",
    "                                                             .groupby( 'customer_id')\n",
    "                                                             .agg( max_ = ( 'invoice_date', 'max' ), \n",
    "                                                                   min_ = ( 'invoice_date', 'min' ),\n",
    "                                                                   days_= ( 'invoice_date', lambda x: ( ( x.max() - x.min() ).days ) + 1 ),\n",
    "                                                                   buy_ = ( 'invoice_no', 'count' ) ) ).reset_index()\n",
    "# Frequency\n",
    "df_aux['frequency'] = df_aux[['buy_', 'days_']].apply( lambda x: x['buy_'] / x['days_'] if  x['days_'] != 0 else 0, axis=1 )\n",
    "\n",
    "# Merge\n",
    "df_ref = pd.merge( df_ref, df_aux[['customer_id', 'frequency']], on='customer_id', how='left' )\n",
    "\n",
    "df_ref.isna().sum()"
   ]
  },
  {
   "cell_type": "markdown",
   "metadata": {},
   "source": [
    "### 3.1.9. Number of Returns"
   ]
  },
  {
   "cell_type": "code",
   "execution_count": null,
   "metadata": {
    "ExecuteTime": {
     "end_time": "2022-02-18T01:22:37.009851Z",
     "start_time": "2022-02-18T01:22:37.004592Z"
    }
   },
   "outputs": [],
   "source": [
    "df2_returns.head()"
   ]
  },
  {
   "cell_type": "code",
   "execution_count": null,
   "metadata": {
    "ExecuteTime": {
     "end_time": "2022-02-18T01:22:37.043358Z",
     "start_time": "2022-02-18T01:22:37.030562Z"
    }
   },
   "outputs": [],
   "source": [
    "# Number of Returns\n",
    "df_returns = df2_returns[['customer_id', 'quantity']].groupby( 'customer_id' ).sum().reset_index().rename( columns={'quantity':'quantity_returns'} )\n",
    "df_returns['quantity_returns'] = df_returns['quantity_returns'] * -1\n",
    "\n",
    "df_ref = pd.merge( df_ref, df_returns, how='left', on='customer_id' )\n",
    "df_ref.loc[df_ref['quantity_returns'].isna(), 'quantity_returns'] = 0\n",
    "\n",
    "df_ref.isna().sum()"
   ]
  },
  {
   "cell_type": "markdown",
   "metadata": {},
   "source": [
    "# 4.0. Exploratory Data Analysis (EDA)"
   ]
  },
  {
   "cell_type": "code",
   "execution_count": null,
   "metadata": {
    "ExecuteTime": {
     "end_time": "2022-02-18T01:22:37.483710Z",
     "start_time": "2022-02-18T01:22:37.469480Z"
    }
   },
   "outputs": [],
   "source": [
    "df4 = df_ref.dropna()\n",
    "df4.isna().sum()"
   ]
  },
  {
   "cell_type": "markdown",
   "metadata": {},
   "source": [
    "## 4.1. Univariate Analysis"
   ]
  },
  {
   "cell_type": "markdown",
   "metadata": {
    "ExecuteTime": {
     "end_time": "2022-02-12T17:47:15.590785Z",
     "start_time": "2022-02-12T17:47:15.571970Z"
    }
   },
   "source": [
    "**Notes.01**\n",
    "1) What do we look for in a clustering problem?\n",
    "- Cohesive and separate cluster.\n",
    "- Variability\n",
    "    - Metrics:\n",
    "        - Min, max, range (dispersion).\n",
    "        - Mean and Median.\n",
    "        - Standard deviation( std) and variance.\n",
    "        - Coefficient of variation (CV) = std/mean\n",
    "Obs: The cluster type differs with each type of business problem."
   ]
  },
  {
   "cell_type": "markdown",
   "metadata": {
    "ExecuteTime": {
     "end_time": "2022-02-13T14:52:10.428490Z",
     "start_time": "2022-02-13T14:52:10.416378Z"
    }
   },
   "source": [
    "**Explore/Delete**\n",
    "\n",
    "**1.** Gross Revenue - ok\n"
   ]
  },
  {
   "cell_type": "code",
   "execution_count": null,
   "metadata": {
    "ExecuteTime": {
     "end_time": "2022-02-18T01:22:38.615361Z",
     "start_time": "2022-02-18T01:22:38.612104Z"
    }
   },
   "outputs": [],
   "source": [
    "#profile = ProfileReport(df4)\n",
    "#profile.to_file('output_v2.html')\n",
    "\n",
    "# to visualize: file:///Users/anaotavio/Documents/repos/insiders_clustering/output/output_v2.html"
   ]
  },
  {
   "cell_type": "markdown",
   "metadata": {},
   "source": [
    "### 4.1.1. Gross Revenue/Quantity of Items"
   ]
  },
  {
   "cell_type": "code",
   "execution_count": null,
   "metadata": {
    "ExecuteTime": {
     "end_time": "2022-02-18T01:22:39.071293Z",
     "start_time": "2022-02-18T01:22:39.055924Z"
    }
   },
   "outputs": [],
   "source": [
    "# outlier?\n",
    "df4[df4['customer_id']==14646]"
   ]
  },
  {
   "cell_type": "code",
   "execution_count": null,
   "metadata": {
    "ExecuteTime": {
     "end_time": "2022-02-18T01:22:39.305599Z",
     "start_time": "2022-02-18T01:22:39.282235Z"
    }
   },
   "outputs": [],
   "source": [
    "df3[df3['customer_id']==14646].sort_values('quantity', ascending=True).head()"
   ]
  },
  {
   "cell_type": "markdown",
   "metadata": {
    "ExecuteTime": {
     "end_time": "2022-02-12T18:30:26.668497Z",
     "start_time": "2022-02-12T18:30:26.662537Z"
    }
   },
   "source": [
    "### 4.1.2. Quantity of Products"
   ]
  },
  {
   "cell_type": "code",
   "execution_count": null,
   "metadata": {
    "ExecuteTime": {
     "end_time": "2022-02-18T01:22:39.790382Z",
     "start_time": "2022-02-18T01:22:39.776514Z"
    }
   },
   "outputs": [],
   "source": [
    "# outlier?\n",
    "df4[df4['quantity_products']==7838]"
   ]
  },
  {
   "cell_type": "code",
   "execution_count": null,
   "metadata": {
    "ExecuteTime": {
     "end_time": "2022-02-18T01:22:40.093916Z",
     "start_time": "2022-02-18T01:22:40.069147Z"
    }
   },
   "outputs": [],
   "source": [
    "df3[df3['customer_id']==17841].sort_values('quantity', ascending=True).head()"
   ]
  },
  {
   "cell_type": "markdown",
   "metadata": {},
   "source": [
    "### 4.1.4. Frequecy"
   ]
  },
  {
   "cell_type": "code",
   "execution_count": null,
   "metadata": {
    "ExecuteTime": {
     "end_time": "2022-02-18T01:22:40.565916Z",
     "start_time": "2022-02-18T01:22:40.551892Z"
    }
   },
   "outputs": [],
   "source": [
    "df4[df4['frequency']==17]"
   ]
  },
  {
   "cell_type": "code",
   "execution_count": null,
   "metadata": {
    "ExecuteTime": {
     "end_time": "2022-02-18T01:22:40.809229Z",
     "start_time": "2022-02-18T01:22:40.788633Z"
    }
   },
   "outputs": [],
   "source": [
    "df3[df3['customer_id']==17850].sort_values('quantity', ascending=True).head()"
   ]
  },
  {
   "cell_type": "markdown",
   "metadata": {},
   "source": [
    "## 4.2. Bivariate Analysis"
   ]
  },
  {
   "cell_type": "code",
   "execution_count": null,
   "metadata": {
    "ExecuteTime": {
     "end_time": "2022-02-18T01:22:41.280112Z",
     "start_time": "2022-02-18T01:22:41.274064Z"
    }
   },
   "outputs": [],
   "source": [
    "cols = ['customer_id']\n",
    "df42 = df4.drop(cols, axis=1)"
   ]
  },
  {
   "cell_type": "code",
   "execution_count": null,
   "metadata": {
    "ExecuteTime": {
     "end_time": "2022-02-18T01:22:42.130073Z",
     "start_time": "2022-02-18T01:22:42.123898Z"
    }
   },
   "outputs": [],
   "source": [
    "df42.columns"
   ]
  },
  {
   "cell_type": "markdown",
   "metadata": {},
   "source": [
    "## 4.3 Space Study"
   ]
  },
  {
   "cell_type": "markdown",
   "metadata": {},
   "source": [
    "1. PCA : axis variability reduction\n",
    "2. UMAP: variability reduction via Baysean system   \n",
    "3. t-SNE: \n",
    "4. Decision Tree:"
   ]
  },
  {
   "cell_type": "code",
   "execution_count": null,
   "metadata": {
    "ExecuteTime": {
     "end_time": "2022-02-18T01:22:43.461820Z",
     "start_time": "2022-02-18T01:22:43.453993Z"
    }
   },
   "outputs": [],
   "source": [
    "# original dataset\n",
    "#df43 = df4.drop(columns = ['customer_id'], axis=1).copy()\n",
    "\n",
    "# selected dataset\n",
    "cols_selected = ['customer_id', 'gross_revenue', 'recency_days', 'quantity_products', 'frequency', 'quantity_returns']\n",
    "df43 = df4[ cols_selected ].drop( columns='customer_id', axis=1 )"
   ]
  },
  {
   "cell_type": "code",
   "execution_count": null,
   "metadata": {
    "ExecuteTime": {
     "end_time": "2022-02-18T01:22:45.695101Z",
     "start_time": "2022-02-18T01:22:45.689093Z"
    }
   },
   "outputs": [],
   "source": [
    "df43.shape"
   ]
  },
  {
   "cell_type": "code",
   "execution_count": null,
   "metadata": {
    "ExecuteTime": {
     "end_time": "2022-02-18T01:22:46.294505Z",
     "start_time": "2022-02-18T01:22:46.262633Z"
    }
   },
   "outputs": [],
   "source": [
    "# MinMax Scaler\n",
    "# from sklearn import prepocessing as pp\n",
    "mm = pp.MinMaxScaler()\n",
    "\n",
    "df43['gross_revenue']     = mm.fit_transform( df43[['gross_revenue']] )\n",
    "df43['recency_days']      = mm.fit_transform( df43[['recency_days']] )\n",
    "df43['quantity_products'] = mm.fit_transform( df43[['quantity_products']])\n",
    "df43['frequency']         = mm.fit_transform( df43[['frequency']])\n",
    "df43['quantity_returns']  = mm.fit_transform( df43[['quantity_returns']])\n",
    "\n",
    "X = df43.copy()"
   ]
  },
  {
   "cell_type": "markdown",
   "metadata": {},
   "source": [
    "### 4.3.1 PCA"
   ]
  },
  {
   "cell_type": "code",
   "execution_count": null,
   "metadata": {
    "ExecuteTime": {
     "end_time": "2022-02-18T01:22:46.696865Z",
     "start_time": "2022-02-18T01:22:46.694076Z"
    }
   },
   "outputs": [],
   "source": [
    "#from sklearn import decomposition as dd"
   ]
  },
  {
   "cell_type": "code",
   "execution_count": null,
   "metadata": {
    "ExecuteTime": {
     "end_time": "2022-02-18T01:22:47.135702Z",
     "start_time": "2022-02-18T01:22:46.934709Z"
    }
   },
   "outputs": [],
   "source": [
    "pca = dd.PCA( n_components=X.shape[1] )\n",
    "\n",
    "principal_components = pca.fit_transform( X )\n",
    "\n",
    "# plot explained variable\n",
    "features = range( pca.n_components_ )\n",
    "\n",
    "plt.bar( features, pca.explained_variance_ratio_, color='black' )\n",
    "\n",
    "# pca component\n",
    "df_pca = pd.DataFrame( principal_components )"
   ]
  },
  {
   "cell_type": "code",
   "execution_count": null,
   "metadata": {
    "ExecuteTime": {
     "end_time": "2022-02-18T01:22:47.316837Z",
     "start_time": "2022-02-18T01:22:47.174980Z"
    }
   },
   "outputs": [],
   "source": [
    "sns.scatterplot(x= 0, y=1, data=df_pca)"
   ]
  },
  {
   "cell_type": "markdown",
   "metadata": {},
   "source": [
    "### 4.3.2. UMAP"
   ]
  },
  {
   "cell_type": "code",
   "execution_count": null,
   "metadata": {
    "ExecuteTime": {
     "end_time": "2022-02-18T01:23:04.639473Z",
     "start_time": "2022-02-18T01:22:47.975095Z"
    }
   },
   "outputs": [],
   "source": [
    "#!pip install llvmlite==0.37.0rc2 --ignore-installed\n",
    "#!pip install umap-learn\n",
    "#import umap.umap_ as umap\n",
    "\n",
    "# UMAP: cluster designed with high dimensionality\n",
    "\n",
    "reducer = umap.UMAP(random_state=42)\n",
    "embedding = reducer.fit_transform(X)\n",
    "\n",
    "#embedding\n",
    "df_umap = pd.DataFrame()\n",
    "df_umap['embedding_x'] = embedding[:, 0]\n",
    "df_umap['embedding_y'] = embedding[:, 1]\n",
    "\n",
    "# plot UMAP\n",
    "sns.scatterplot(x='embedding_x',\n",
    "                y='embedding_y',\n",
    "                data= df_umap)"
   ]
  },
  {
   "cell_type": "markdown",
   "metadata": {},
   "source": [
    "### 4.3.2. t-SNE"
   ]
  },
  {
   "cell_type": "code",
   "execution_count": null,
   "metadata": {
    "ExecuteTime": {
     "end_time": "2022-02-18T01:23:17.785076Z",
     "start_time": "2022-02-18T01:23:04.640696Z"
    }
   },
   "outputs": [],
   "source": [
    "#from sklearn.manifold import TSNE\n",
    "reducer = mn.TSNE(n_components=2,n_jobs=-1,random_state=42)\n",
    "embedding = reducer.fit_transform(X)\n",
    "\n",
    "#embedding\n",
    "df_tsne = pd.DataFrame()\n",
    "df_tsne['embedding_x'] = embedding[:, 0]\n",
    "df_tsne['embedding_y'] = embedding[:, 1]\n",
    "\n",
    "# plot UMAP\n",
    "sns.scatterplot(x='embedding_x',\n",
    "                y='embedding_y',\n",
    "                data= df_tsne)"
   ]
  },
  {
   "cell_type": "markdown",
   "metadata": {},
   "source": [
    "### 4.3.4. Tree-Based Embedding"
   ]
  },
  {
   "cell_type": "code",
   "execution_count": null,
   "metadata": {
    "ExecuteTime": {
     "end_time": "2022-02-18T01:23:18.864420Z",
     "start_time": "2022-02-18T01:23:17.786885Z"
    }
   },
   "outputs": [],
   "source": [
    " # training dataset\n",
    "X = df43.drop( columns=['gross_revenue'], axis=1 )\n",
    "y = df43['gross_revenue']\n",
    "\n",
    "# model definition\n",
    "rf_model = en.RandomForestRegressor( n_estimators=100, random_state=42 )\n",
    "\n",
    "# model training\n",
    "rf_model.fit( X, y )\n",
    "\n",
    "# Leaf \n",
    "df_leaf = pd.DataFrame( rf_model.apply( X ) )"
   ]
  },
  {
   "cell_type": "code",
   "execution_count": null,
   "metadata": {
    "ExecuteTime": {
     "end_time": "2022-02-18T01:23:28.149462Z",
     "start_time": "2022-02-18T01:23:18.865776Z"
    }
   },
   "outputs": [],
   "source": [
    " # Reduzer dimensionality\n",
    "reducer = umap.UMAP( random_state=42 )\n",
    "embedding = reducer.fit_transform( df_leaf )\n",
    "\n",
    "# embedding\n",
    "df_tree = pd.DataFrame()\n",
    "df_tree['embedding_x'] = embedding[:, 0]\n",
    "df_tree['embedding_y'] = embedding[:, 1]\n",
    "\n",
    "# plot UMAP\n",
    "sns.scatterplot( x='embedding_x', \n",
    "                 y='embedding_y', \n",
    "                 data=df_tree )"
   ]
  },
  {
   "cell_type": "markdown",
   "metadata": {
    "ExecuteTime": {
     "end_time": "2022-02-18T00:17:43.755990Z",
     "start_time": "2022-02-18T00:17:43.752210Z"
    }
   },
   "source": [
    "# 5.0. Data Preparation"
   ]
  },
  {
   "cell_type": "code",
   "execution_count": null,
   "metadata": {
    "ExecuteTime": {
     "end_time": "2022-02-18T01:23:28.170884Z",
     "start_time": "2022-02-18T01:23:28.150547Z"
    }
   },
   "outputs": [],
   "source": [
    "# Tree-Based Embedding\n",
    "df5 = df_tree.copy()\n",
    "df5.to_csv('tree_based_embedding.cdv')\n",
    "\n",
    "# UMAP Embedding\n",
    "#df5 = df_umap.copy()\n",
    "\n",
    "# TSNE Embedding\n",
    "#df5 = df_tsne.copy()"
   ]
  },
  {
   "cell_type": "code",
   "execution_count": null,
   "metadata": {
    "ExecuteTime": {
     "end_time": "2022-02-18T01:23:28.175200Z",
     "start_time": "2022-02-18T01:23:28.172884Z"
    }
   },
   "outputs": [],
   "source": [
    "# Standard Scaler\n",
    "#from sklearn import preprocessing as pp\n",
    "#mm = pp.MinMaxScaler()\n",
    "#ss = pp.StandardScaler()\n",
    "#rs = pp.RobustScaler()\n",
    "\n",
    "#df5['gross_revenue']          = mm.fit_transform(df5[['gross_revenue']])\n",
    "#df5['recency_days']           = mm.fit_transform(df5[['recency_days']])\n",
    "# df5['quantity_invoices']      = mm.fit_transform(df5[['quantity_invoices']])\n",
    "# df5['quantity_items']         = mm.fit_transform(df5[['quantity_items']])\n",
    "#df5['quantity_products']      = mm.fit_transform(df5[['quantity_products']])\n",
    "# df5['avg_ticket']             = mm.fit_transform(df5[['avg_ticket']])\n",
    "# df5['avg_recency_days']       = mm.fit_transform(df5[['avg_recency_days']])\n",
    "#df5['frequency']              = mm.fit_transform(df5[['frequency']])\n",
    "#df5['quantity_returns']       = mm.fit_transform(df5[['quantity_returns']])\n",
    "# df5['avg_basket_size']        = mm.fit_transform(df5[['avg_basket_size']])\n",
    "# df5['avg_unique_basket_size'] = mm.fit_transform(df5[['avg_unique_basket_size']])\n",
    "    \n",
    "#variable = 'avg_unique_basket_size'"
   ]
  },
  {
   "cell_type": "code",
   "execution_count": null,
   "metadata": {
    "ExecuteTime": {
     "end_time": "2022-02-18T01:23:28.178143Z",
     "start_time": "2022-02-18T01:23:28.176558Z"
    },
    "cell_style": "split"
   },
   "outputs": [],
   "source": [
    "# Data as is\n",
    "#print('Min:{} - Max:{}'.format(df5_aux[variable].min(), df5_aux[variable].max()))\n",
    "#sns.displot(df5_aux[variable]);"
   ]
  },
  {
   "cell_type": "code",
   "execution_count": null,
   "metadata": {
    "ExecuteTime": {
     "end_time": "2022-02-18T01:23:28.182613Z",
     "start_time": "2022-02-18T01:23:28.181179Z"
    },
    "cell_style": "split"
   },
   "outputs": [],
   "source": [
    "# Data Standardization/Rescale\n",
    "#print('Min:{} - Max:{}'.format(df5[variable].min(), df5[variable].max()))\n",
    "#sns.displot(df5[variable]);"
   ]
  },
  {
   "cell_type": "code",
   "execution_count": null,
   "metadata": {
    "ExecuteTime": {
     "end_time": "2022-02-18T01:23:28.185938Z",
     "start_time": "2022-02-18T01:23:28.184505Z"
    }
   },
   "outputs": [],
   "source": [
    "# BoxPlot\n",
    "#sns.boxplot(df5_aux[variable]);"
   ]
  },
  {
   "cell_type": "markdown",
   "metadata": {},
   "source": [
    "# 6.0. Feature Selection"
   ]
  },
  {
   "cell_type": "code",
   "execution_count": null,
   "metadata": {
    "ExecuteTime": {
     "end_time": "2022-02-18T01:23:28.188168Z",
     "start_time": "2022-02-18T01:23:28.186818Z"
    }
   },
   "outputs": [],
   "source": [
    "#cols_selected = ['customer_id', 'gross_revenue', 'recency_days', 'quantity_products', 'frequency', 'quantity_returns']\n",
    "#df6 = df5[ cols_selected ].copy()\n",
    "#df6 = df_tree.copy()"
   ]
  },
  {
   "cell_type": "markdown",
   "metadata": {},
   "source": [
    "# 7.0. Hyperparameter Fine Tunning"
   ]
  },
  {
   "cell_type": "code",
   "execution_count": null,
   "metadata": {
    "ExecuteTime": {
     "end_time": "2022-02-18T01:23:28.191727Z",
     "start_time": "2022-02-18T01:23:28.189112Z"
    }
   },
   "outputs": [],
   "source": [
    "X = df5.copy()"
   ]
  },
  {
   "cell_type": "code",
   "execution_count": null,
   "metadata": {
    "ExecuteTime": {
     "end_time": "2022-02-18T01:23:28.198533Z",
     "start_time": "2022-02-18T01:23:28.192767Z"
    }
   },
   "outputs": [],
   "source": [
    "X.head()"
   ]
  },
  {
   "cell_type": "code",
   "execution_count": null,
   "metadata": {
    "ExecuteTime": {
     "end_time": "2022-02-18T01:23:28.202602Z",
     "start_time": "2022-02-18T01:23:28.199886Z"
    }
   },
   "outputs": [],
   "source": [
    "#clusters = [2, 3, 4, 5, 6, 7, 8, 9]\n",
    "clusters = np.arange( 2, 25, 1)\n",
    "clusters"
   ]
  },
  {
   "cell_type": "markdown",
   "metadata": {},
   "source": [
    "## 7.1. K-Means"
   ]
  },
  {
   "cell_type": "code",
   "execution_count": null,
   "metadata": {
    "ExecuteTime": {
     "end_time": "2022-02-18T01:23:28.205541Z",
     "start_time": "2022-02-18T01:23:28.203743Z"
    }
   },
   "outputs": [],
   "source": [
    "from sklearn import metrics as m"
   ]
  },
  {
   "cell_type": "code",
   "execution_count": null,
   "metadata": {
    "ExecuteTime": {
     "end_time": "2022-02-18T01:24:00.515056Z",
     "start_time": "2022-02-18T01:23:28.206876Z"
    }
   },
   "outputs": [],
   "source": [
    "kmeans_list = []\n",
    "for k in clusters:\n",
    "    # model definition\n",
    "    kmeans_model = c.KMeans( n_clusters=k, n_init=100, random_state=42 )\n",
    "\n",
    "    # model training\n",
    "    kmeans_model.fit( X )\n",
    "\n",
    "    # model predict\n",
    "    labels = kmeans_model.predict( X )\n",
    "\n",
    "    # model performance\n",
    "    sil = m.silhouette_score( X, labels, metric='euclidean' )\n",
    "    kmeans_list.append( sil )"
   ]
  },
  {
   "cell_type": "code",
   "execution_count": null,
   "metadata": {
    "ExecuteTime": {
     "end_time": "2022-02-18T01:24:00.664688Z",
     "start_time": "2022-02-18T01:24:00.516669Z"
    }
   },
   "outputs": [],
   "source": [
    "plt.plot(clusters, kmeans_list, linestyle='--', marker='o', color='b')\n",
    "plt.xlabel('K');\n",
    "plt.ylabel('Silhouette Score');\n",
    "plt.title('Silhouette Score x K')"
   ]
  },
  {
   "cell_type": "markdown",
   "metadata": {},
   "source": [
    "## 7.2. GMM"
   ]
  },
  {
   "cell_type": "code",
   "execution_count": null,
   "metadata": {
    "ExecuteTime": {
     "end_time": "2022-02-18T01:24:23.040514Z",
     "start_time": "2022-02-18T01:24:00.665897Z"
    }
   },
   "outputs": [],
   "source": [
    "gmm_list = []\n",
    "for k in clusters:\n",
    "    # model definition\n",
    "    gmm_model = mx.GaussianMixture( n_components=k, n_init=10, random_state=42 )\n",
    "\n",
    "    # model training\n",
    "    gmm_model.fit( X )\n",
    "\n",
    "    # model predict\n",
    "    labels = gmm_model.predict( X )\n",
    "\n",
    "    # model performance\n",
    "    sil = m.silhouette_score( X, labels, metric='euclidean' )\n",
    "    gmm_list.append( sil )"
   ]
  },
  {
   "cell_type": "code",
   "execution_count": null,
   "metadata": {
    "ExecuteTime": {
     "end_time": "2022-02-18T01:24:23.179596Z",
     "start_time": "2022-02-18T01:24:23.041652Z"
    }
   },
   "outputs": [],
   "source": [
    "plt.plot(clusters, gmm_list, linestyle='--', marker='o', color='b')\n",
    "plt.xlabel('K');\n",
    "plt.ylabel('Silhouette Score');\n",
    "plt.title('Silhouette Score x K')"
   ]
  },
  {
   "cell_type": "markdown",
   "metadata": {},
   "source": [
    "## 7.3. Hierarchical Clustering"
   ]
  },
  {
   "cell_type": "code",
   "execution_count": null,
   "metadata": {
    "ExecuteTime": {
     "end_time": "2022-02-18T01:24:23.619502Z",
     "start_time": "2022-02-18T01:24:23.180580Z"
    }
   },
   "outputs": [],
   "source": [
    "# from scipy.cluster import hierarchy as hc\n",
    "\n",
    "# model definition and training\n",
    "hc_model = hc.linkage(X, 'ward')"
   ]
  },
  {
   "cell_type": "code",
   "execution_count": null,
   "metadata": {
    "ExecuteTime": {
     "end_time": "2022-02-18T01:24:23.621927Z",
     "start_time": "2022-02-18T01:24:23.620521Z"
    }
   },
   "outputs": [],
   "source": [
    "#hc.dendrogram(\n",
    "    #hc_model,\n",
    "    #leaf_rotation = 90,\n",
    "    #leaf_font_size=8\n",
    "#)\n",
    "\n",
    "#plt.plot()"
   ]
  },
  {
   "cell_type": "code",
   "execution_count": null,
   "metadata": {
    "ExecuteTime": {
     "end_time": "2022-02-18T01:24:23.624155Z",
     "start_time": "2022-02-18T01:24:23.622781Z"
    }
   },
   "outputs": [],
   "source": [
    "#hc.dendrogram(\n",
    "    #hc_model,\n",
    "    #truncate_mode='lastp',\n",
    "    #p=12,\n",
    "    #leaf_rotation = 90,\n",
    "   # leaf_font_size=8,\n",
    "    #show_contracted=True\n",
    "#)\n",
    "\n",
    "#plt.plot()"
   ]
  },
  {
   "cell_type": "markdown",
   "metadata": {},
   "source": [
    "### 7.3.1. HClustering Silhouette Score"
   ]
  },
  {
   "cell_type": "code",
   "execution_count": null,
   "metadata": {
    "ExecuteTime": {
     "end_time": "2022-02-18T01:24:37.649301Z",
     "start_time": "2022-02-18T01:24:23.625046Z"
    }
   },
   "outputs": [],
   "source": [
    "hc_list = []\n",
    "for k in clusters:\n",
    "    # model definition & training\n",
    "    hc_model = hc.linkage( X, 'ward' )\n",
    "\n",
    "    # model predict\n",
    "    labels = hc.fcluster( hc_model, k, criterion='maxclust' )\n",
    "\n",
    "    # metrics\n",
    "    sil = m.silhouette_score( X, labels, metric='euclidean' )\n",
    "    hc_list.append( sil )"
   ]
  },
  {
   "cell_type": "code",
   "execution_count": null,
   "metadata": {
    "ExecuteTime": {
     "end_time": "2022-02-18T01:24:37.788302Z",
     "start_time": "2022-02-18T01:24:37.652929Z"
    }
   },
   "outputs": [],
   "source": [
    "plt.plot(clusters, hc_list, linestyle='--', marker='o', color='b')"
   ]
  },
  {
   "cell_type": "markdown",
   "metadata": {},
   "source": [
    "## 7.5. Results"
   ]
  },
  {
   "cell_type": "code",
   "execution_count": null,
   "metadata": {
    "ExecuteTime": {
     "end_time": "2022-02-18T01:24:37.847598Z",
     "start_time": "2022-02-18T01:24:37.789412Z"
    }
   },
   "outputs": [],
   "source": [
    "## 7.5. Results - Tree Based Embedding\n",
    "\n",
    "df_results = pd.DataFrame( \n",
    "    {'KMeans': kmeans_list, \n",
    "     'GMM': gmm_list, \n",
    "     'HC': hc_list}\n",
    ").T\n",
    "\n",
    "df_results.columns = clusters\n",
    "df_results.style.highlight_max( color='lightgreen', axis=1 )"
   ]
  },
  {
   "cell_type": "code",
   "execution_count": null,
   "metadata": {
    "ExecuteTime": {
     "end_time": "2022-02-18T00:46:35.255479Z",
     "start_time": "2022-02-18T00:46:35.214718Z"
    }
   },
   "outputs": [],
   "source": [
    " ## 7.6. Results - UMAP Embedding\n",
    "\n",
    "df_results = pd.DataFrame( \n",
    "    {'KMeans': kmeans_list, \n",
    "     'GMM': gmm_list, \n",
    "     'HC': hc_list}\n",
    ").T\n",
    "\n",
    "df_results.columns = clusters\n",
    "df_results.style.highlight_max( color='lightgreen', axis=1 )"
   ]
  },
  {
   "cell_type": "code",
   "execution_count": null,
   "metadata": {
    "ExecuteTime": {
     "end_time": "2022-02-18T00:50:56.261330Z",
     "start_time": "2022-02-18T00:50:56.241078Z"
    }
   },
   "outputs": [],
   "source": [
    "## 7.7. Results - TSNE Embedding\n",
    "\n",
    "df_results = pd.DataFrame( \n",
    "    {'KMeans': kmeans_list, \n",
    "     'GMM': gmm_list, \n",
    "     'HC': hc_list}\n",
    ").T\n",
    "\n",
    "df_results.columns = clusters\n",
    "df_results.style.highlight_max( color='lightgreen', axis=1 )"
   ]
  },
  {
   "cell_type": "markdown",
   "metadata": {},
   "source": [
    "# 8.0. Model Training"
   ]
  },
  {
   "cell_type": "markdown",
   "metadata": {},
   "source": [
    "## 8.1. K-Means - GMM"
   ]
  },
  {
   "cell_type": "code",
   "execution_count": null,
   "metadata": {
    "ExecuteTime": {
     "end_time": "2022-02-18T01:24:50.076088Z",
     "start_time": "2022-02-18T01:24:49.967952Z"
    }
   },
   "outputs": [],
   "source": [
    " ## model definition\n",
    "k = 9\n",
    "kmeans = c.KMeans( init='random', n_clusters=k, random_state=42  )\n",
    "#\n",
    "## model training\n",
    "kmeans.fit( X )\n",
    "#\n",
    "## clustering\n",
    "labels = kmeans.labels_"
   ]
  },
  {
   "cell_type": "code",
   "execution_count": null,
   "metadata": {
    "ExecuteTime": {
     "end_time": "2022-02-18T01:24:51.028235Z",
     "start_time": "2022-02-18T01:24:51.025057Z"
    }
   },
   "outputs": [],
   "source": [
    "# model definition\n",
    "#gmm_model = mx.GaussianMixture( n_components=k,n_init=300, random_state=42 )\n",
    "\n",
    "# model training\n",
    "#gmm_model.fit( X )\n",
    "\n",
    "# model predict\n",
    "#labels = gmm_model.predict( X )"
   ]
  },
  {
   "cell_type": "markdown",
   "metadata": {},
   "source": [
    "## 8.2. Cluster Validation"
   ]
  },
  {
   "cell_type": "code",
   "execution_count": null,
   "metadata": {
    "ExecuteTime": {
     "end_time": "2022-02-18T01:24:51.951443Z",
     "start_time": "2022-02-18T01:24:51.629790Z"
    }
   },
   "outputs": [],
   "source": [
    "# WSS (Within- cluster sum of square)\n",
    "#print('WSS value: {}'.format( kmeans.inertia_))\n",
    "\n",
    "# SS (Silhouette Score)\n",
    "print('SS value: {}'.format (m.silhouette_score(X, labels, metric='euclidean')))"
   ]
  },
  {
   "cell_type": "markdown",
   "metadata": {},
   "source": [
    "# 9.0. Cluster Analysis"
   ]
  },
  {
   "cell_type": "code",
   "execution_count": null,
   "metadata": {
    "ExecuteTime": {
     "end_time": "2022-02-18T01:24:52.511524Z",
     "start_time": "2022-02-18T01:24:52.499309Z"
    }
   },
   "outputs": [],
   "source": [
    "X.head()"
   ]
  },
  {
   "cell_type": "code",
   "execution_count": null,
   "metadata": {
    "ExecuteTime": {
     "end_time": "2022-02-18T01:24:52.905810Z",
     "start_time": "2022-02-18T01:24:52.900995Z"
    }
   },
   "outputs": [],
   "source": [
    "df9 = X.copy()\n",
    "df9['cluster'] = labels"
   ]
  },
  {
   "cell_type": "markdown",
   "metadata": {},
   "source": [
    "## 9.1. Visualization Inspection"
   ]
  },
  {
   "cell_type": "code",
   "execution_count": null,
   "metadata": {
    "ExecuteTime": {
     "end_time": "2022-02-18T01:24:54.134059Z",
     "start_time": "2022-02-18T01:24:53.748159Z"
    }
   },
   "outputs": [],
   "source": [
    "#from plotly import express as px\n",
    "#fig = px.scatter_3d(df9, x='recency_days', y='invoice_no', z='gross_revenue', color='cluster')\n",
    "#fig.show()\n",
    "\n",
    "#visualizer = SilhouetteVisualizer(kmeans, colors='yellowbrick')\n",
    "#visualizer.fit(X)\n",
    "#viausalizer.finalize()\n",
    "\n",
    "sns.scatterplot( x='embedding_x', y='embedding_y', hue='cluster', data=df9, palette='deep')"
   ]
  },
  {
   "cell_type": "markdown",
   "metadata": {},
   "source": [
    "## 9.2. 2d plot"
   ]
  },
  {
   "cell_type": "code",
   "execution_count": null,
   "metadata": {
    "ExecuteTime": {
     "end_time": "2022-02-18T01:24:54.190727Z",
     "start_time": "2022-02-18T01:24:54.188736Z"
    }
   },
   "outputs": [],
   "source": [
    "#df_viz = df9.drop( columns = 'customer_id', axis=1)\n",
    "#sns.pairplot(df_viz, hue='cluster')"
   ]
  },
  {
   "cell_type": "markdown",
   "metadata": {},
   "source": [
    "## 9.3. UMAP \n"
   ]
  },
  {
   "cell_type": "code",
   "execution_count": null,
   "metadata": {
    "ExecuteTime": {
     "end_time": "2022-02-18T01:24:54.689363Z",
     "start_time": "2022-02-18T01:24:54.684731Z"
    },
    "hide_input": false
   },
   "outputs": [],
   "source": [
    "#!pip install llvmlite==0.37.0rc2 --ignore-installed\n",
    "#!pip install umap-learn\n",
    "#import umap.umap_ as umap\n",
    "\n",
    "# UMAP: cluster designed with high dimensionality\n",
    "\n",
    "#reducer = umap.UMAP(n_neighbors=90, random_state=42)\n",
    "#embedding = reducer.fit_transform(X)\n",
    "\n",
    "#embedding\n",
    "#df_viz['embedding_x'] = embedding[:, 0]\n",
    "#df_viz['embedding_y'] = embedding[:, 1]\n",
    "\n",
    "# plot UMAP\n",
    "#sns.scatterplot(x='embedding_x',\n",
    "                #y='embedding_y',\n",
    "                #hue='cluster',\n",
    "                #palette=sns.color_palette('hls',\n",
    "                                          #n_colors=len(\n",
    "                                              #df_viz['cluster'].unique())),\n",
    "                #data=df_viz)"
   ]
  },
  {
   "cell_type": "markdown",
   "metadata": {
    "hide_input": true,
    "lang": "fr"
   },
   "source": [
    "## 9.2. Cluster Profile"
   ]
  },
  {
   "cell_type": "code",
   "execution_count": null,
   "metadata": {
    "ExecuteTime": {
     "end_time": "2022-02-18T01:24:55.154884Z",
     "start_time": "2022-02-18T01:24:55.133237Z"
    }
   },
   "outputs": [],
   "source": [
    "df92 = df4[cols_selected].copy()\n",
    "df92['cluster'] = labels\n",
    "df92.head()"
   ]
  },
  {
   "cell_type": "code",
   "execution_count": null,
   "metadata": {
    "ExecuteTime": {
     "end_time": "2022-02-18T01:25:04.432687Z",
     "start_time": "2022-02-18T01:25:04.379088Z"
    }
   },
   "outputs": [],
   "source": [
    "# Number of customer\n",
    "df_cluster = df92[['customer_id', 'cluster']].groupby('cluster').count().reset_index()\n",
    "df_cluster['perc_customer'] = 100*(df_cluster['customer_id']/df_cluster['customer_id'].sum())\n",
    "\n",
    "# Avg gross revenue\n",
    "df_avg_gross_revenue = df92[['gross_revenue', 'cluster']].groupby('cluster').mean().reset_index()\n",
    "df_cluster = pd.merge(df_cluster, df_avg_gross_revenue, how = 'inner', on ='cluster')\n",
    "\n",
    "# Avg recency days\n",
    "df_avg_recency_days = df92[['recency_days', 'cluster']].groupby('cluster').mean().reset_index()\n",
    "df_cluster = pd.merge(df_cluster, df_avg_recency_days, how = 'inner', on ='cluster')\n",
    "\n",
    "# Quantity Products\n",
    "df_avg_quantity_products = df92[['quantity_products', 'cluster']].groupby('cluster').mean().reset_index()\n",
    "df_cluster = pd.merge(df_cluster, df_avg_quantity_products, how = 'inner', on ='cluster')\n",
    "\n",
    "# Frequency\n",
    "df_avg_frequency = df92[['frequency', 'cluster']].groupby('cluster').mean().reset_index()\n",
    "df_cluster = pd.merge(df_cluster, df_avg_frequency, how = 'inner', on ='cluster')\n",
    "\n",
    "# Quantity Returns\n",
    "df_avg_quantity_returns = df92[['quantity_returns', 'cluster']].groupby('cluster').mean().reset_index()\n",
    "df_cluster = pd.merge(df_cluster, df_avg_quantity_returns, how = 'inner', on ='cluster')\n",
    "\n",
    "df_cluster"
   ]
  },
  {
   "cell_type": "markdown",
   "metadata": {},
   "source": [
    "**Cluster 1: Insiders**\n",
    "\n",
    "**Cluster 0: More Products**\n",
    "\n",
    "**Cluster 5: Spend Money**\n",
    "\n",
    "**Cluster 2: Even More Products**\n",
    "\n",
    "**Cluster 4: Spend More Money**\n",
    "\n",
    "**Cluster 8: Less Days**\n",
    "\n",
    "**Cluster 3: Less 1k**\n",
    "\n",
    "**Cluster 6: Stop Returners**\n",
    "\n",
    "**Cluster 7: More Buy**\n"
   ]
  },
  {
   "cell_type": "markdown",
   "metadata": {},
   "source": [
    "# 10.0. EAD"
   ]
  },
  {
   "cell_type": "markdown",
   "metadata": {
    "ExecuteTime": {
     "end_time": "2022-02-15T20:22:06.212332Z",
     "start_time": "2022-02-15T20:22:06.204361Z"
    }
   },
   "source": [
    "### 10.1. Mindmap Hipothesis"
   ]
  },
  {
   "cell_type": "code",
   "execution_count": null,
   "metadata": {
    "ExecuteTime": {
     "end_time": "2022-02-18T01:25:06.655089Z",
     "start_time": "2022-02-18T01:25:06.636573Z"
    }
   },
   "outputs": [],
   "source": [
    "df10 = df92.copy()\n",
    "df10.head()"
   ]
  },
  {
   "cell_type": "code",
   "execution_count": null,
   "metadata": {
    "ExecuteTime": {
     "end_time": "2022-02-18T01:25:06.927717Z",
     "start_time": "2022-02-18T01:25:06.915827Z"
    }
   },
   "outputs": [],
   "source": [
    "Image('/Users/anaotavio/Documents/repos/insiders_clustering/img/mindmap.png')"
   ]
  },
  {
   "cell_type": "markdown",
   "metadata": {},
   "source": [
    "### 10.2. Business Hypothesis"
   ]
  },
  {
   "cell_type": "markdown",
   "metadata": {},
   "source": [
    "#### Purchase Hypotheses"
   ]
  },
  {
   "cell_type": "markdown",
   "metadata": {},
   "source": [
    "**1.**Insiders customers use a credit card for 80% of their purchases.\n",
    "\n",
    "This assumption has no value because there is no information about the type of payment in the dataset.\n",
    "\n",
    "**2.** Insiders customers have an average ticket of 10% over the More Products cluster.\n",
    "\n",
    "This assumption has no feature in the df92.\n",
    "\n",
    "**3.** Insiders customers have a basket size above 5 products.\n",
    "\n",
    "This assumption has no feature in the df92.\n",
    "\n",
    "**4. Insiders cluster has a volume of product purchases above 10% of total purchases.**\n",
    "\n",
    "**5. Insiders cluster has a volume of gross revenue above 10% of total purchases.**\n",
    "\n",
    "**6. Insider cluster has an average number of returns below the average of total customers..**\n",
    "\n",
    "**7. The median revenue by cluster Insiders is 10% above than overall median revenue.**\n",
    "\n",
    "**8. The GMV of cluster Insiders is concentrated in the 3rd quartile.**"
   ]
  },
  {
   "cell_type": "markdown",
   "metadata": {
    "ExecuteTime": {
     "end_time": "2022-02-15T20:24:21.900230Z",
     "start_time": "2022-02-15T20:24:21.892337Z"
    }
   },
   "source": [
    "### 10.3. Final Hypothesis list"
   ]
  },
  {
   "cell_type": "markdown",
   "metadata": {},
   "source": [
    "**4. Insiders cluster has a volume of product purchases above 10% of total purchases.**\n",
    "\n",
    "**5. Insiders cluster has a volume of gross revenue above 10% of total purchases.**\n",
    "\n",
    "**6. Insider cluster has an average number of returns below the average of total customers..**\n",
    "\n",
    "**7. The median revenue by cluster Insiders is 10% above than overall median revenue.**\n",
    "\n",
    "**8. The GMV of cluster Insiders is concentrated in the 3rd quartile.**"
   ]
  },
  {
   "cell_type": "markdown",
   "metadata": {},
   "source": [
    "### 10.4. Hypotheses Validation"
   ]
  },
  {
   "cell_type": "markdown",
   "metadata": {},
   "source": [
    "**H1:** Insiders cluster has a volume of product purchases above 10% of total purchases.\n",
    "\n",
    "**True:** Insiders cluster has a product purchase volume of 38%"
   ]
  },
  {
   "cell_type": "code",
   "execution_count": null,
   "metadata": {
    "ExecuteTime": {
     "end_time": "2022-02-18T01:25:46.635696Z",
     "start_time": "2022-02-18T01:25:46.622063Z"
    }
   },
   "outputs": [],
   "source": [
    "# sum of Insiders quantity products\n",
    "df_sales_insiders = df10.loc[df10['cluster']==1, 'quantity_products'].sum()\n",
    "df_sales_total = df10.loc[:, 'quantity_products'].sum()\n",
    "\n",
    "# sum of total quantity products\n",
    "print('% Sales Insiders: {:.2f}%'.format(100*df_sales_insiders / df_sales_total))"
   ]
  },
  {
   "cell_type": "markdown",
   "metadata": {},
   "source": [
    "**H2:** Insiders cluster has a volume of gross revenue above 10% of total purchases.\n",
    "\n",
    "**True:** Insiders cluster has GMV colume of 41%."
   ]
  },
  {
   "cell_type": "code",
   "execution_count": null,
   "metadata": {
    "ExecuteTime": {
     "end_time": "2022-02-18T01:25:21.542576Z",
     "start_time": "2022-02-18T01:25:21.531526Z"
    }
   },
   "outputs": [],
   "source": [
    "# gmv: gross margin value\n",
    "# sum of Insiders quantity products\n",
    "df_gmv_insiders = df10.loc[df10['cluster']==1, 'gross_revenue'].sum()\n",
    "df_gmv_total = df10.loc[:, 'gross_revenue'].sum()\n",
    "\n",
    "# sum of total quantity products\n",
    "print('% GMV: {:.2f}%'.format(100*df_gmv_insiders / df_gmv_total))\n",
    "    "
   ]
  },
  {
   "cell_type": "markdown",
   "metadata": {},
   "source": [
    "**H3:** Insider cluster has an average number of returns below the average of total customers.\n",
    "    \n",
    "**False:** Insider cluster has an average number of returns above the average of total customers."
   ]
  },
  {
   "cell_type": "code",
   "execution_count": null,
   "metadata": {
    "ExecuteTime": {
     "end_time": "2022-02-18T01:26:01.059330Z",
     "start_time": "2022-02-18T01:26:01.047728Z"
    }
   },
   "outputs": [],
   "source": [
    "# average returns Insiders\n",
    "df_avg_return_insiders = df10.loc[df10['cluster']==1, 'quantity_returns'].mean()\n",
    "\n",
    "# average total returns\n",
    "df_average_return_all = df10['quantity_returns'].mean()\n",
    "\n",
    "print('Avg Return Insiders:{} vs Avg Return All:{}'.format(np.round(df_avg_return_insiders, 0), np.round(df_average_return_all, 0) ))"
   ]
  },
  {
   "cell_type": "markdown",
   "metadata": {},
   "source": [
    "**H4:** The median revenue by cluster Insiders is 10% above than overall median revenue.\n",
    "    \n",
    "**True:** AThe median revenue is 496% above the average."
   ]
  },
  {
   "cell_type": "code",
   "execution_count": null,
   "metadata": {
    "ExecuteTime": {
     "end_time": "2022-02-18T01:26:18.292043Z",
     "start_time": "2022-02-18T01:26:18.284544Z"
    }
   },
   "outputs": [],
   "source": [
    "# GMV Insiders median\n",
    "df_median_gmv_insiders = df10.loc[df10['cluster']==1, 'gross_revenue'].median()\n",
    "\n",
    "# GMV Total median\n",
    "df_median_gmv_total = df10['gross_revenue'].median()\n",
    "\n",
    "gmv_diff = (df_median_gmv_insiders - df_median_gmv_total)/df_median_gmv_total\n",
    "print('Median Diff: {:.2f}%'.format(100*gmv_diff))"
   ]
  },
  {
   "cell_type": "markdown",
   "metadata": {},
   "source": [
    "**H5:** The GMV of cluster Insiders is concentrated in the 3rd quartile.\n",
    "\n",
    "**False:** The GMV of cluster Insiders is concentrated in the 1rd quartile\n"
   ]
  },
  {
   "cell_type": "code",
   "execution_count": null,
   "metadata": {
    "ExecuteTime": {
     "end_time": "2022-02-18T01:26:20.074280Z",
     "start_time": "2022-02-18T01:26:20.065204Z"
    }
   },
   "outputs": [],
   "source": [
    "np.percentile(df10.loc[df10['cluster']==1, 'gross_revenue'], q=0.1)"
   ]
  },
  {
   "cell_type": "code",
   "execution_count": null,
   "metadata": {
    "ExecuteTime": {
     "end_time": "2022-02-18T01:26:20.679974Z",
     "start_time": "2022-02-18T01:26:20.671647Z"
    }
   },
   "outputs": [],
   "source": [
    "np.percentile(df10.loc[df10['cluster']==1, 'gross_revenue'], q=0.9)"
   ]
  },
  {
   "cell_type": "code",
   "execution_count": null,
   "metadata": {
    "ExecuteTime": {
     "end_time": "2022-02-18T01:26:21.670188Z",
     "start_time": "2022-02-18T01:26:21.506753Z"
    }
   },
   "outputs": [],
   "source": [
    "df_aux = df10.loc[(df10['cluster'] == 1) & (df10['gross_revenue'] < 50000 ), 'gross_revenue'];\n",
    "sns.violinplot( x=df_aux )"
   ]
  },
  {
   "cell_type": "markdown",
   "metadata": {},
   "source": [
    "### 10.5. Answers Framework"
   ]
  },
  {
   "cell_type": "markdown",
   "metadata": {},
   "source": [
    "#### Business Questions"
   ]
  },
  {
   "cell_type": "markdown",
   "metadata": {
    "ExecuteTime": {
     "end_time": "2022-02-16T01:24:13.945078Z",
     "start_time": "2022-02-16T01:24:13.901567Z"
    }
   },
   "source": [
    "**1. Who are the customers eligible to join the program?**"
   ]
  },
  {
   "cell_type": "code",
   "execution_count": null,
   "metadata": {
    "ExecuteTime": {
     "end_time": "2022-02-18T01:26:26.274576Z",
     "start_time": "2022-02-18T01:26:26.266236Z"
    }
   },
   "outputs": [],
   "source": [
    "insiders = df10.loc[df10['cluster']==1, 'customer_id']"
   ]
  },
  {
   "cell_type": "markdown",
   "metadata": {
    "ExecuteTime": {
     "end_time": "2022-02-16T18:39:59.501414Z",
     "start_time": "2022-02-16T18:39:59.484666Z"
    }
   },
   "source": [
    "**2. How many customers will be part os this group?**"
   ]
  },
  {
   "cell_type": "code",
   "execution_count": null,
   "metadata": {
    "ExecuteTime": {
     "end_time": "2022-02-18T01:26:27.361459Z",
     "start_time": "2022-02-18T01:26:27.355650Z"
    }
   },
   "outputs": [],
   "source": [
    "insiders.size"
   ]
  },
  {
   "cell_type": "markdown",
   "metadata": {},
   "source": [
    "**3. What are the main characteristics of these customers?**"
   ]
  },
  {
   "cell_type": "markdown",
   "metadata": {},
   "source": [
    "**Cluster Insider**\n",
    "- Number of customers: 495 (25,26% of customers)\n",
    "- Average Recency: 77 days\n",
    "- Average Purchase: 499 \n",
    "- Avarage Revenue: 8311.14 dollars\n",
    "- Frequency of purchases: 0.37 products/day\n",
    "- Quantity of Returns: 290"
   ]
  },
  {
   "cell_type": "markdown",
   "metadata": {},
   "source": [
    "**4. What is the contribution percentage revenue from Insiders?**"
   ]
  },
  {
   "cell_type": "code",
   "execution_count": null,
   "metadata": {
    "ExecuteTime": {
     "end_time": "2022-02-18T01:26:31.540108Z",
     "start_time": "2022-02-18T01:26:31.531868Z"
    }
   },
   "outputs": [],
   "source": [
    "# gmv: gross margin value\n",
    "df_gmv_insiders = df10.loc[df10['cluster']==1, 'gross_revenue'].sum()\n",
    "df_gmv_total = df10.loc[:, 'gross_revenue'].sum()\n",
    "\n",
    "print('% GMV from Insiders: {:.2f}%'.format(100*df_gmv_insiders / df_gmv_total))"
   ]
  },
  {
   "cell_type": "markdown",
   "metadata": {},
   "source": [
    "**5. What is the group's revenue expectation for the coming months?**"
   ]
  },
  {
   "cell_type": "markdown",
   "metadata": {},
   "source": [
    "**6. What are the condictions for select customers to join Insiders?**"
   ]
  },
  {
   "cell_type": "markdown",
   "metadata": {},
   "source": [
    "**7. What are the condictions for removing Insiders customers?**"
   ]
  },
  {
   "cell_type": "markdown",
   "metadata": {},
   "source": [
    "**8. What is the guarantee that the Insiders program is better than the rest of the base?**"
   ]
  },
  {
   "cell_type": "markdown",
   "metadata": {},
   "source": [
    "**9. What actions can the marketing team take to increase revenue?**"
   ]
  },
  {
   "cell_type": "markdown",
   "metadata": {},
   "source": [
    "# 11.0. Deploy to Production"
   ]
  },
  {
   "cell_type": "code",
   "execution_count": null,
   "metadata": {},
   "outputs": [],
   "source": []
  },
  {
   "cell_type": "code",
   "execution_count": null,
   "metadata": {},
   "outputs": [],
   "source": []
  },
  {
   "cell_type": "code",
   "execution_count": null,
   "metadata": {},
   "outputs": [],
   "source": []
  }
 ],
 "metadata": {
  "kernelspec": {
   "display_name": "Python 3 (ipykernel)",
   "language": "python",
   "name": "python3"
  },
  "language_info": {
   "codemirror_mode": {
    "name": "ipython",
    "version": 3
   },
   "file_extension": ".py",
   "mimetype": "text/x-python",
   "name": "python",
   "nbconvert_exporter": "python",
   "pygments_lexer": "ipython3",
   "version": "3.10.4"
  },
  "nbTranslate": {
   "displayLangs": [
    "*"
   ],
   "hotkey": "alt-t",
   "langInMainMenu": true,
   "sourceLang": "en",
   "targetLang": "fr",
   "useGoogleTranslate": true
  }
 },
 "nbformat": 4,
 "nbformat_minor": 4
}
